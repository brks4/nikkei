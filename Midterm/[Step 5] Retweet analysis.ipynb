{
 "cells": [
  {
   "cell_type": "markdown",
   "metadata": {},
   "source": [
    "# Retweet Analysis"
   ]
  },
  {
   "cell_type": "markdown",
   "metadata": {},
   "source": [
    "* Import data from Tweepy results"
   ]
  },
  {
   "cell_type": "code",
   "execution_count": 1,
   "metadata": {},
   "outputs": [],
   "source": [
    "import pandas as pd\n",
    "import numpy as np"
   ]
  },
  {
   "cell_type": "code",
   "execution_count": 2,
   "metadata": {},
   "outputs": [],
   "source": [
    "df = pd.read_csv('tweet_average_count.csv')"
   ]
  },
  {
   "cell_type": "code",
   "execution_count": 3,
   "metadata": {},
   "outputs": [
    {
     "data": {
      "text/html": [
       "<div>\n",
       "<style scoped>\n",
       "    .dataframe tbody tr th:only-of-type {\n",
       "        vertical-align: middle;\n",
       "    }\n",
       "\n",
       "    .dataframe tbody tr th {\n",
       "        vertical-align: top;\n",
       "    }\n",
       "\n",
       "    .dataframe thead th {\n",
       "        text-align: right;\n",
       "    }\n",
       "</style>\n",
       "<table border=\"1\" class=\"dataframe\">\n",
       "  <thead>\n",
       "    <tr style=\"text-align: right;\">\n",
       "      <th></th>\n",
       "      <th>name</th>\n",
       "      <th>ave_retweet</th>\n",
       "      <th>ave_favorite</th>\n",
       "      <th>retweet_count</th>\n",
       "      <th>favorite_count</th>\n",
       "      <th>tweet_count</th>\n",
       "      <th>state</th>\n",
       "      <th>district_N</th>\n",
       "      <th>party</th>\n",
       "    </tr>\n",
       "  </thead>\n",
       "  <tbody>\n",
       "    <tr>\n",
       "      <th>0</th>\n",
       "      <td>Aaron Swisher</td>\n",
       "      <td>3.163265</td>\n",
       "      <td>5.566327</td>\n",
       "      <td>620</td>\n",
       "      <td>1091</td>\n",
       "      <td>196</td>\n",
       "      <td>Idaho</td>\n",
       "      <td>2</td>\n",
       "      <td>Democratic</td>\n",
       "    </tr>\n",
       "    <tr>\n",
       "      <th>1</th>\n",
       "      <td>Abby Finkenauer</td>\n",
       "      <td>23.771795</td>\n",
       "      <td>77.407692</td>\n",
       "      <td>9271</td>\n",
       "      <td>30189</td>\n",
       "      <td>390</td>\n",
       "      <td>Iowa</td>\n",
       "      <td>1</td>\n",
       "      <td>Democratic</td>\n",
       "    </tr>\n",
       "    <tr>\n",
       "      <th>2</th>\n",
       "      <td>Abigail Spanberger</td>\n",
       "      <td>29.395604</td>\n",
       "      <td>75.644970</td>\n",
       "      <td>34775</td>\n",
       "      <td>89488</td>\n",
       "      <td>1183</td>\n",
       "      <td>Virginia</td>\n",
       "      <td>7</td>\n",
       "      <td>Democratic</td>\n",
       "    </tr>\n",
       "    <tr>\n",
       "      <th>3</th>\n",
       "      <td>Adam Kinzinger</td>\n",
       "      <td>10.333333</td>\n",
       "      <td>27.444444</td>\n",
       "      <td>279</td>\n",
       "      <td>741</td>\n",
       "      <td>27</td>\n",
       "      <td>Illinois</td>\n",
       "      <td>16</td>\n",
       "      <td>Republican</td>\n",
       "    </tr>\n",
       "    <tr>\n",
       "      <th>4</th>\n",
       "      <td>Adam Smith</td>\n",
       "      <td>1.524590</td>\n",
       "      <td>6.202186</td>\n",
       "      <td>279</td>\n",
       "      <td>1135</td>\n",
       "      <td>183</td>\n",
       "      <td>Washington</td>\n",
       "      <td>9</td>\n",
       "      <td>Democratic</td>\n",
       "    </tr>\n",
       "  </tbody>\n",
       "</table>\n",
       "</div>"
      ],
      "text/plain": [
       "                 name  ave_retweet  ave_favorite  retweet_count  \\\n",
       "0       Aaron Swisher     3.163265      5.566327            620   \n",
       "1     Abby Finkenauer    23.771795     77.407692           9271   \n",
       "2  Abigail Spanberger    29.395604     75.644970          34775   \n",
       "3      Adam Kinzinger    10.333333     27.444444            279   \n",
       "4          Adam Smith     1.524590      6.202186            279   \n",
       "\n",
       "   favorite_count  tweet_count       state  district_N       party  \n",
       "0            1091          196       Idaho           2  Democratic  \n",
       "1           30189          390        Iowa           1  Democratic  \n",
       "2           89488         1183    Virginia           7  Democratic  \n",
       "3             741           27    Illinois          16  Republican  \n",
       "4            1135          183  Washington           9  Democratic  "
      ]
     },
     "execution_count": 3,
     "metadata": {},
     "output_type": "execute_result"
    }
   ],
   "source": [
    "df.head()"
   ]
  },
  {
   "cell_type": "code",
   "execution_count": 4,
   "metadata": {},
   "outputs": [
    {
     "data": {
      "text/plain": [
       "name               object\n",
       "ave_retweet       float64\n",
       "ave_favorite      float64\n",
       "retweet_count       int64\n",
       "favorite_count      int64\n",
       "tweet_count         int64\n",
       "state              object\n",
       "district_N          int64\n",
       "party              object\n",
       "dtype: object"
      ]
     },
     "execution_count": 4,
     "metadata": {},
     "output_type": "execute_result"
    }
   ],
   "source": [
    "df.dtypes"
   ]
  },
  {
   "cell_type": "code",
   "execution_count": 5,
   "metadata": {},
   "outputs": [
    {
     "data": {
      "text/plain": [
       "Democratic    367\n",
       "Republican    283\n",
       "Name: party, dtype: int64"
      ]
     },
     "execution_count": 5,
     "metadata": {},
     "output_type": "execute_result"
    }
   ],
   "source": [
    "df.party.value_counts()"
   ]
  },
  {
   "cell_type": "code",
   "execution_count": 6,
   "metadata": {},
   "outputs": [],
   "source": [
    "df.district_N = df.district_N.astype(str)"
   ]
  },
  {
   "cell_type": "code",
   "execution_count": 7,
   "metadata": {},
   "outputs": [],
   "source": [
    "for i in range(0,len(df)):\n",
    "    if len(df.iloc[i,7]) == 1:\n",
    "        df.iloc[i,7] = '0' + df.iloc[i,7]"
   ]
  },
  {
   "cell_type": "code",
   "execution_count": 8,
   "metadata": {},
   "outputs": [
    {
     "data": {
      "text/html": [
       "<div>\n",
       "<style scoped>\n",
       "    .dataframe tbody tr th:only-of-type {\n",
       "        vertical-align: middle;\n",
       "    }\n",
       "\n",
       "    .dataframe tbody tr th {\n",
       "        vertical-align: top;\n",
       "    }\n",
       "\n",
       "    .dataframe thead th {\n",
       "        text-align: right;\n",
       "    }\n",
       "</style>\n",
       "<table border=\"1\" class=\"dataframe\">\n",
       "  <thead>\n",
       "    <tr style=\"text-align: right;\">\n",
       "      <th></th>\n",
       "      <th>name</th>\n",
       "      <th>ave_retweet</th>\n",
       "      <th>ave_favorite</th>\n",
       "      <th>retweet_count</th>\n",
       "      <th>favorite_count</th>\n",
       "      <th>tweet_count</th>\n",
       "      <th>state</th>\n",
       "      <th>district_N</th>\n",
       "      <th>party</th>\n",
       "    </tr>\n",
       "  </thead>\n",
       "  <tbody>\n",
       "    <tr>\n",
       "      <th>0</th>\n",
       "      <td>Aaron Swisher</td>\n",
       "      <td>3.163265</td>\n",
       "      <td>5.566327</td>\n",
       "      <td>620</td>\n",
       "      <td>1091</td>\n",
       "      <td>196</td>\n",
       "      <td>Idaho</td>\n",
       "      <td>02</td>\n",
       "      <td>Democratic</td>\n",
       "    </tr>\n",
       "    <tr>\n",
       "      <th>1</th>\n",
       "      <td>Abby Finkenauer</td>\n",
       "      <td>23.771795</td>\n",
       "      <td>77.407692</td>\n",
       "      <td>9271</td>\n",
       "      <td>30189</td>\n",
       "      <td>390</td>\n",
       "      <td>Iowa</td>\n",
       "      <td>01</td>\n",
       "      <td>Democratic</td>\n",
       "    </tr>\n",
       "    <tr>\n",
       "      <th>2</th>\n",
       "      <td>Abigail Spanberger</td>\n",
       "      <td>29.395604</td>\n",
       "      <td>75.644970</td>\n",
       "      <td>34775</td>\n",
       "      <td>89488</td>\n",
       "      <td>1183</td>\n",
       "      <td>Virginia</td>\n",
       "      <td>07</td>\n",
       "      <td>Democratic</td>\n",
       "    </tr>\n",
       "    <tr>\n",
       "      <th>3</th>\n",
       "      <td>Adam Kinzinger</td>\n",
       "      <td>10.333333</td>\n",
       "      <td>27.444444</td>\n",
       "      <td>279</td>\n",
       "      <td>741</td>\n",
       "      <td>27</td>\n",
       "      <td>Illinois</td>\n",
       "      <td>16</td>\n",
       "      <td>Republican</td>\n",
       "    </tr>\n",
       "    <tr>\n",
       "      <th>4</th>\n",
       "      <td>Adam Smith</td>\n",
       "      <td>1.524590</td>\n",
       "      <td>6.202186</td>\n",
       "      <td>279</td>\n",
       "      <td>1135</td>\n",
       "      <td>183</td>\n",
       "      <td>Washington</td>\n",
       "      <td>09</td>\n",
       "      <td>Democratic</td>\n",
       "    </tr>\n",
       "  </tbody>\n",
       "</table>\n",
       "</div>"
      ],
      "text/plain": [
       "                 name  ave_retweet  ave_favorite  retweet_count  \\\n",
       "0       Aaron Swisher     3.163265      5.566327            620   \n",
       "1     Abby Finkenauer    23.771795     77.407692           9271   \n",
       "2  Abigail Spanberger    29.395604     75.644970          34775   \n",
       "3      Adam Kinzinger    10.333333     27.444444            279   \n",
       "4          Adam Smith     1.524590      6.202186            279   \n",
       "\n",
       "   favorite_count  tweet_count       state district_N       party  \n",
       "0            1091          196       Idaho         02  Democratic  \n",
       "1           30189          390        Iowa         01  Democratic  \n",
       "2           89488         1183    Virginia         07  Democratic  \n",
       "3             741           27    Illinois         16  Republican  \n",
       "4            1135          183  Washington         09  Democratic  "
      ]
     },
     "execution_count": 8,
     "metadata": {},
     "output_type": "execute_result"
    }
   ],
   "source": [
    "df.head()"
   ]
  },
  {
   "cell_type": "code",
   "execution_count": 9,
   "metadata": {},
   "outputs": [],
   "source": [
    "abb_df = pd.read_csv('states_abb.csv')"
   ]
  },
  {
   "cell_type": "code",
   "execution_count": 10,
   "metadata": {},
   "outputs": [
    {
     "data": {
      "text/html": [
       "<div>\n",
       "<style scoped>\n",
       "    .dataframe tbody tr th:only-of-type {\n",
       "        vertical-align: middle;\n",
       "    }\n",
       "\n",
       "    .dataframe tbody tr th {\n",
       "        vertical-align: top;\n",
       "    }\n",
       "\n",
       "    .dataframe thead th {\n",
       "        text-align: right;\n",
       "    }\n",
       "</style>\n",
       "<table border=\"1\" class=\"dataframe\">\n",
       "  <thead>\n",
       "    <tr style=\"text-align: right;\">\n",
       "      <th></th>\n",
       "      <th>State</th>\n",
       "      <th>Abbreviation</th>\n",
       "    </tr>\n",
       "  </thead>\n",
       "  <tbody>\n",
       "    <tr>\n",
       "      <th>0</th>\n",
       "      <td>Alabama</td>\n",
       "      <td>AL</td>\n",
       "    </tr>\n",
       "    <tr>\n",
       "      <th>1</th>\n",
       "      <td>Alaska</td>\n",
       "      <td>AK</td>\n",
       "    </tr>\n",
       "    <tr>\n",
       "      <th>2</th>\n",
       "      <td>Arizona</td>\n",
       "      <td>AZ</td>\n",
       "    </tr>\n",
       "    <tr>\n",
       "      <th>3</th>\n",
       "      <td>Arkansas</td>\n",
       "      <td>AR</td>\n",
       "    </tr>\n",
       "    <tr>\n",
       "      <th>4</th>\n",
       "      <td>California</td>\n",
       "      <td>CA</td>\n",
       "    </tr>\n",
       "  </tbody>\n",
       "</table>\n",
       "</div>"
      ],
      "text/plain": [
       "        State Abbreviation\n",
       "0     Alabama           AL\n",
       "1      Alaska           AK\n",
       "2     Arizona           AZ\n",
       "3    Arkansas           AR\n",
       "4  California           CA"
      ]
     },
     "execution_count": 10,
     "metadata": {},
     "output_type": "execute_result"
    }
   ],
   "source": [
    "abb_df.head()"
   ]
  },
  {
   "cell_type": "code",
   "execution_count": 11,
   "metadata": {},
   "outputs": [],
   "source": [
    "df['abbreviation'] = np.nan"
   ]
  },
  {
   "cell_type": "code",
   "execution_count": 12,
   "metadata": {},
   "outputs": [],
   "source": [
    "for i in range(0,len(df)):\n",
    "    for j in range(0,len(abb_df)):\n",
    "        if df.iloc[i,6] == abb_df.iloc[j,0]:\n",
    "            df.iloc[i,9] = abb_df.iloc[j,1]"
   ]
  },
  {
   "cell_type": "code",
   "execution_count": 13,
   "metadata": {},
   "outputs": [
    {
     "data": {
      "text/html": [
       "<div>\n",
       "<style scoped>\n",
       "    .dataframe tbody tr th:only-of-type {\n",
       "        vertical-align: middle;\n",
       "    }\n",
       "\n",
       "    .dataframe tbody tr th {\n",
       "        vertical-align: top;\n",
       "    }\n",
       "\n",
       "    .dataframe thead th {\n",
       "        text-align: right;\n",
       "    }\n",
       "</style>\n",
       "<table border=\"1\" class=\"dataframe\">\n",
       "  <thead>\n",
       "    <tr style=\"text-align: right;\">\n",
       "      <th></th>\n",
       "      <th>name</th>\n",
       "      <th>ave_retweet</th>\n",
       "      <th>ave_favorite</th>\n",
       "      <th>retweet_count</th>\n",
       "      <th>favorite_count</th>\n",
       "      <th>tweet_count</th>\n",
       "      <th>state</th>\n",
       "      <th>district_N</th>\n",
       "      <th>party</th>\n",
       "      <th>abbreviation</th>\n",
       "    </tr>\n",
       "  </thead>\n",
       "  <tbody>\n",
       "    <tr>\n",
       "      <th>0</th>\n",
       "      <td>Aaron Swisher</td>\n",
       "      <td>3.163265</td>\n",
       "      <td>5.566327</td>\n",
       "      <td>620</td>\n",
       "      <td>1091</td>\n",
       "      <td>196</td>\n",
       "      <td>Idaho</td>\n",
       "      <td>02</td>\n",
       "      <td>Democratic</td>\n",
       "      <td>ID</td>\n",
       "    </tr>\n",
       "    <tr>\n",
       "      <th>1</th>\n",
       "      <td>Abby Finkenauer</td>\n",
       "      <td>23.771795</td>\n",
       "      <td>77.407692</td>\n",
       "      <td>9271</td>\n",
       "      <td>30189</td>\n",
       "      <td>390</td>\n",
       "      <td>Iowa</td>\n",
       "      <td>01</td>\n",
       "      <td>Democratic</td>\n",
       "      <td>IA</td>\n",
       "    </tr>\n",
       "    <tr>\n",
       "      <th>2</th>\n",
       "      <td>Abigail Spanberger</td>\n",
       "      <td>29.395604</td>\n",
       "      <td>75.644970</td>\n",
       "      <td>34775</td>\n",
       "      <td>89488</td>\n",
       "      <td>1183</td>\n",
       "      <td>Virginia</td>\n",
       "      <td>07</td>\n",
       "      <td>Democratic</td>\n",
       "      <td>VA</td>\n",
       "    </tr>\n",
       "    <tr>\n",
       "      <th>3</th>\n",
       "      <td>Adam Kinzinger</td>\n",
       "      <td>10.333333</td>\n",
       "      <td>27.444444</td>\n",
       "      <td>279</td>\n",
       "      <td>741</td>\n",
       "      <td>27</td>\n",
       "      <td>Illinois</td>\n",
       "      <td>16</td>\n",
       "      <td>Republican</td>\n",
       "      <td>IL</td>\n",
       "    </tr>\n",
       "    <tr>\n",
       "      <th>4</th>\n",
       "      <td>Adam Smith</td>\n",
       "      <td>1.524590</td>\n",
       "      <td>6.202186</td>\n",
       "      <td>279</td>\n",
       "      <td>1135</td>\n",
       "      <td>183</td>\n",
       "      <td>Washington</td>\n",
       "      <td>09</td>\n",
       "      <td>Democratic</td>\n",
       "      <td>WA</td>\n",
       "    </tr>\n",
       "  </tbody>\n",
       "</table>\n",
       "</div>"
      ],
      "text/plain": [
       "                 name  ave_retweet  ave_favorite  retweet_count  \\\n",
       "0       Aaron Swisher     3.163265      5.566327            620   \n",
       "1     Abby Finkenauer    23.771795     77.407692           9271   \n",
       "2  Abigail Spanberger    29.395604     75.644970          34775   \n",
       "3      Adam Kinzinger    10.333333     27.444444            279   \n",
       "4          Adam Smith     1.524590      6.202186            279   \n",
       "\n",
       "   favorite_count  tweet_count       state district_N       party abbreviation  \n",
       "0            1091          196       Idaho         02  Democratic           ID  \n",
       "1           30189          390        Iowa         01  Democratic           IA  \n",
       "2           89488         1183    Virginia         07  Democratic           VA  \n",
       "3             741           27    Illinois         16  Republican           IL  \n",
       "4            1135          183  Washington         09  Democratic           WA  "
      ]
     },
     "execution_count": 13,
     "metadata": {},
     "output_type": "execute_result"
    }
   ],
   "source": [
    "df.head()"
   ]
  },
  {
   "cell_type": "code",
   "execution_count": 14,
   "metadata": {},
   "outputs": [],
   "source": [
    "df['district_key'] = df.abbreviation + '-' + df.district_N"
   ]
  },
  {
   "cell_type": "code",
   "execution_count": 15,
   "metadata": {
    "scrolled": true
   },
   "outputs": [
    {
     "data": {
      "text/html": [
       "<div>\n",
       "<style scoped>\n",
       "    .dataframe tbody tr th:only-of-type {\n",
       "        vertical-align: middle;\n",
       "    }\n",
       "\n",
       "    .dataframe tbody tr th {\n",
       "        vertical-align: top;\n",
       "    }\n",
       "\n",
       "    .dataframe thead th {\n",
       "        text-align: right;\n",
       "    }\n",
       "</style>\n",
       "<table border=\"1\" class=\"dataframe\">\n",
       "  <thead>\n",
       "    <tr style=\"text-align: right;\">\n",
       "      <th></th>\n",
       "      <th>name</th>\n",
       "      <th>ave_retweet</th>\n",
       "      <th>ave_favorite</th>\n",
       "      <th>retweet_count</th>\n",
       "      <th>favorite_count</th>\n",
       "      <th>tweet_count</th>\n",
       "      <th>state</th>\n",
       "      <th>district_N</th>\n",
       "      <th>party</th>\n",
       "      <th>abbreviation</th>\n",
       "      <th>district_key</th>\n",
       "    </tr>\n",
       "  </thead>\n",
       "  <tbody>\n",
       "    <tr>\n",
       "      <th>0</th>\n",
       "      <td>Aaron Swisher</td>\n",
       "      <td>3.163265</td>\n",
       "      <td>5.566327</td>\n",
       "      <td>620</td>\n",
       "      <td>1091</td>\n",
       "      <td>196</td>\n",
       "      <td>Idaho</td>\n",
       "      <td>02</td>\n",
       "      <td>Democratic</td>\n",
       "      <td>ID</td>\n",
       "      <td>ID-02</td>\n",
       "    </tr>\n",
       "    <tr>\n",
       "      <th>1</th>\n",
       "      <td>Abby Finkenauer</td>\n",
       "      <td>23.771795</td>\n",
       "      <td>77.407692</td>\n",
       "      <td>9271</td>\n",
       "      <td>30189</td>\n",
       "      <td>390</td>\n",
       "      <td>Iowa</td>\n",
       "      <td>01</td>\n",
       "      <td>Democratic</td>\n",
       "      <td>IA</td>\n",
       "      <td>IA-01</td>\n",
       "    </tr>\n",
       "    <tr>\n",
       "      <th>2</th>\n",
       "      <td>Abigail Spanberger</td>\n",
       "      <td>29.395604</td>\n",
       "      <td>75.644970</td>\n",
       "      <td>34775</td>\n",
       "      <td>89488</td>\n",
       "      <td>1183</td>\n",
       "      <td>Virginia</td>\n",
       "      <td>07</td>\n",
       "      <td>Democratic</td>\n",
       "      <td>VA</td>\n",
       "      <td>VA-07</td>\n",
       "    </tr>\n",
       "    <tr>\n",
       "      <th>3</th>\n",
       "      <td>Adam Kinzinger</td>\n",
       "      <td>10.333333</td>\n",
       "      <td>27.444444</td>\n",
       "      <td>279</td>\n",
       "      <td>741</td>\n",
       "      <td>27</td>\n",
       "      <td>Illinois</td>\n",
       "      <td>16</td>\n",
       "      <td>Republican</td>\n",
       "      <td>IL</td>\n",
       "      <td>IL-16</td>\n",
       "    </tr>\n",
       "    <tr>\n",
       "      <th>4</th>\n",
       "      <td>Adam Smith</td>\n",
       "      <td>1.524590</td>\n",
       "      <td>6.202186</td>\n",
       "      <td>279</td>\n",
       "      <td>1135</td>\n",
       "      <td>183</td>\n",
       "      <td>Washington</td>\n",
       "      <td>09</td>\n",
       "      <td>Democratic</td>\n",
       "      <td>WA</td>\n",
       "      <td>WA-09</td>\n",
       "    </tr>\n",
       "  </tbody>\n",
       "</table>\n",
       "</div>"
      ],
      "text/plain": [
       "                 name  ave_retweet  ave_favorite  retweet_count  \\\n",
       "0       Aaron Swisher     3.163265      5.566327            620   \n",
       "1     Abby Finkenauer    23.771795     77.407692           9271   \n",
       "2  Abigail Spanberger    29.395604     75.644970          34775   \n",
       "3      Adam Kinzinger    10.333333     27.444444            279   \n",
       "4          Adam Smith     1.524590      6.202186            279   \n",
       "\n",
       "   favorite_count  tweet_count       state district_N       party  \\\n",
       "0            1091          196       Idaho         02  Democratic   \n",
       "1           30189          390        Iowa         01  Democratic   \n",
       "2           89488         1183    Virginia         07  Democratic   \n",
       "3             741           27    Illinois         16  Republican   \n",
       "4            1135          183  Washington         09  Democratic   \n",
       "\n",
       "  abbreviation district_key  \n",
       "0           ID        ID-02  \n",
       "1           IA        IA-01  \n",
       "2           VA        VA-07  \n",
       "3           IL        IL-16  \n",
       "4           WA        WA-09  "
      ]
     },
     "execution_count": 15,
     "metadata": {},
     "output_type": "execute_result"
    }
   ],
   "source": [
    "df.head()"
   ]
  },
  {
   "cell_type": "code",
   "execution_count": 62,
   "metadata": {},
   "outputs": [],
   "source": [
    "df.to_csv('candidates_summary.csv',index=False)"
   ]
  },
  {
   "cell_type": "code",
   "execution_count": 63,
   "metadata": {},
   "outputs": [
    {
     "data": {
      "text/plain": [
       "0.7341719409502461"
      ]
     },
     "execution_count": 63,
     "metadata": {},
     "output_type": "execute_result"
    }
   ],
   "source": [
    "df[df.party == 'Democratic'].tweet_count.sum()/df.tweet_count.sum()"
   ]
  },
  {
   "cell_type": "code",
   "execution_count": 64,
   "metadata": {},
   "outputs": [
    {
     "data": {
      "text/plain": [
       "480.1144414168937"
      ]
     },
     "execution_count": 64,
     "metadata": {},
     "output_type": "execute_result"
    }
   ],
   "source": [
    "df[df.party == 'Democratic'].tweet_count.sum()/df[df.party == 'Democratic'].name.count()"
   ]
  },
  {
   "cell_type": "code",
   "execution_count": 65,
   "metadata": {},
   "outputs": [
    {
     "data": {
      "text/plain": [
       "225.43816254416961"
      ]
     },
     "execution_count": 65,
     "metadata": {},
     "output_type": "execute_result"
    }
   ],
   "source": [
    "df[df.party == 'Republican'].tweet_count.sum()/df[df.party == 'Republican'].name.count()"
   ]
  },
  {
   "cell_type": "code",
   "execution_count": 66,
   "metadata": {},
   "outputs": [
    {
     "data": {
      "text/plain": [
       "2.129694617799353"
      ]
     },
     "execution_count": 66,
     "metadata": {},
     "output_type": "execute_result"
    }
   ],
   "source": [
    "(df[df.party == 'Democratic'].tweet_count.sum()/df[df.party == 'Democratic'].name.count())/(df[df.party == 'Republican'].tweet_count.sum()/df[df.party == 'Republican'].name.count())"
   ]
  },
  {
   "cell_type": "code",
   "execution_count": 67,
   "metadata": {},
   "outputs": [
    {
     "data": {
      "text/plain": [
       "32211.686648501363"
      ]
     },
     "execution_count": 67,
     "metadata": {},
     "output_type": "execute_result"
    }
   ],
   "source": [
    "df[df.party == 'Democratic'].retweet_count.sum()/df[df.party == 'Democratic'].name.count()"
   ]
  },
  {
   "cell_type": "code",
   "execution_count": 68,
   "metadata": {},
   "outputs": [
    {
     "data": {
      "text/plain": [
       "6860.508833922261"
      ]
     },
     "execution_count": 68,
     "metadata": {},
     "output_type": "execute_result"
    }
   ],
   "source": [
    "df[df.party == 'Republican'].retweet_count.sum()/df[df.party == 'Republican'].name.count()"
   ]
  },
  {
   "cell_type": "code",
   "execution_count": 69,
   "metadata": {},
   "outputs": [
    {
     "data": {
      "text/plain": [
       "4.6952328796996"
      ]
     },
     "execution_count": 69,
     "metadata": {},
     "output_type": "execute_result"
    }
   ],
   "source": [
    "(df[df.party == 'Democratic'].retweet_count.sum()/df[df.party == 'Democratic'].name.count())/(df[df.party == 'Republican'].retweet_count.sum()/df[df.party == 'Republican'].name.count())"
   ]
  },
  {
   "cell_type": "code",
   "execution_count": 70,
   "metadata": {},
   "outputs": [
    {
     "data": {
      "text/plain": [
       "91910.34332425069"
      ]
     },
     "execution_count": 70,
     "metadata": {},
     "output_type": "execute_result"
    }
   ],
   "source": [
    "df[df.party == 'Democratic'].favorite_count.sum()/df[df.party == 'Democratic'].name.count()"
   ]
  },
  {
   "cell_type": "code",
   "execution_count": 71,
   "metadata": {},
   "outputs": [
    {
     "data": {
      "text/plain": [
       "15958.374558303887"
      ]
     },
     "execution_count": 71,
     "metadata": {},
     "output_type": "execute_result"
    }
   ],
   "source": [
    "df[df.party == 'Republican'].favorite_count.sum()/df[df.party == 'Republican'].name.count()"
   ]
  },
  {
   "cell_type": "code",
   "execution_count": 72,
   "metadata": {},
   "outputs": [
    {
     "data": {
      "text/plain": [
       "5.75938000380029"
      ]
     },
     "execution_count": 72,
     "metadata": {},
     "output_type": "execute_result"
    }
   ],
   "source": [
    "(df[df.party == 'Democratic'].favorite_count.sum()/df[df.party == 'Democratic'].name.count())/(df[df.party == 'Republican'].favorite_count.sum()/df[df.party == 'Republican'].name.count())"
   ]
  },
  {
   "cell_type": "markdown",
   "metadata": {},
   "source": [
    "## Tweets by district"
   ]
  },
  {
   "cell_type": "code",
   "execution_count": 16,
   "metadata": {},
   "outputs": [],
   "source": [
    "democratic_df = df[df.party == 'Democratic'].reset_index(drop=True)"
   ]
  },
  {
   "cell_type": "code",
   "execution_count": 17,
   "metadata": {},
   "outputs": [],
   "source": [
    "democratic_df = democratic_df.groupby(by='district_key').sum().reset_index()"
   ]
  },
  {
   "cell_type": "code",
   "execution_count": 18,
   "metadata": {},
   "outputs": [
    {
     "data": {
      "text/html": [
       "<div>\n",
       "<style scoped>\n",
       "    .dataframe tbody tr th:only-of-type {\n",
       "        vertical-align: middle;\n",
       "    }\n",
       "\n",
       "    .dataframe tbody tr th {\n",
       "        vertical-align: top;\n",
       "    }\n",
       "\n",
       "    .dataframe thead th {\n",
       "        text-align: right;\n",
       "    }\n",
       "</style>\n",
       "<table border=\"1\" class=\"dataframe\">\n",
       "  <thead>\n",
       "    <tr style=\"text-align: right;\">\n",
       "      <th></th>\n",
       "      <th>district_key</th>\n",
       "      <th>ave_retweet</th>\n",
       "      <th>ave_favorite</th>\n",
       "      <th>retweet_count</th>\n",
       "      <th>favorite_count</th>\n",
       "      <th>tweet_count</th>\n",
       "    </tr>\n",
       "  </thead>\n",
       "  <tbody>\n",
       "    <tr>\n",
       "      <th>0</th>\n",
       "      <td>AK-00</td>\n",
       "      <td>6.543367</td>\n",
       "      <td>19.433673</td>\n",
       "      <td>2565</td>\n",
       "      <td>7618</td>\n",
       "      <td>392</td>\n",
       "    </tr>\n",
       "    <tr>\n",
       "      <th>1</th>\n",
       "      <td>AL-01</td>\n",
       "      <td>14.382716</td>\n",
       "      <td>21.595679</td>\n",
       "      <td>4660</td>\n",
       "      <td>6997</td>\n",
       "      <td>324</td>\n",
       "    </tr>\n",
       "    <tr>\n",
       "      <th>2</th>\n",
       "      <td>AL-02</td>\n",
       "      <td>17.929286</td>\n",
       "      <td>34.152769</td>\n",
       "      <td>26876</td>\n",
       "      <td>51195</td>\n",
       "      <td>1499</td>\n",
       "    </tr>\n",
       "    <tr>\n",
       "      <th>3</th>\n",
       "      <td>AL-03</td>\n",
       "      <td>10.682791</td>\n",
       "      <td>25.846947</td>\n",
       "      <td>13471</td>\n",
       "      <td>32593</td>\n",
       "      <td>1261</td>\n",
       "    </tr>\n",
       "    <tr>\n",
       "      <th>4</th>\n",
       "      <td>AL-04</td>\n",
       "      <td>15.183857</td>\n",
       "      <td>24.053812</td>\n",
       "      <td>3386</td>\n",
       "      <td>5364</td>\n",
       "      <td>223</td>\n",
       "    </tr>\n",
       "  </tbody>\n",
       "</table>\n",
       "</div>"
      ],
      "text/plain": [
       "  district_key  ave_retweet  ave_favorite  retweet_count  favorite_count  \\\n",
       "0        AK-00     6.543367     19.433673           2565            7618   \n",
       "1        AL-01    14.382716     21.595679           4660            6997   \n",
       "2        AL-02    17.929286     34.152769          26876           51195   \n",
       "3        AL-03    10.682791     25.846947          13471           32593   \n",
       "4        AL-04    15.183857     24.053812           3386            5364   \n",
       "\n",
       "   tweet_count  \n",
       "0          392  \n",
       "1          324  \n",
       "2         1499  \n",
       "3         1261  \n",
       "4          223  "
      ]
     },
     "execution_count": 18,
     "metadata": {},
     "output_type": "execute_result"
    }
   ],
   "source": [
    "democratic_df.head()"
   ]
  },
  {
   "cell_type": "code",
   "execution_count": 19,
   "metadata": {},
   "outputs": [],
   "source": [
    "democratic_df.ave_retweet = democratic_df.retweet_count / democratic_df.tweet_count"
   ]
  },
  {
   "cell_type": "code",
   "execution_count": 20,
   "metadata": {},
   "outputs": [],
   "source": [
    "democratic_df.ave_favorite = democratic_df.favorite_count / democratic_df.tweet_count"
   ]
  },
  {
   "cell_type": "code",
   "execution_count": 21,
   "metadata": {},
   "outputs": [
    {
     "data": {
      "text/html": [
       "<div>\n",
       "<style scoped>\n",
       "    .dataframe tbody tr th:only-of-type {\n",
       "        vertical-align: middle;\n",
       "    }\n",
       "\n",
       "    .dataframe tbody tr th {\n",
       "        vertical-align: top;\n",
       "    }\n",
       "\n",
       "    .dataframe thead th {\n",
       "        text-align: right;\n",
       "    }\n",
       "</style>\n",
       "<table border=\"1\" class=\"dataframe\">\n",
       "  <thead>\n",
       "    <tr style=\"text-align: right;\">\n",
       "      <th></th>\n",
       "      <th>district_key</th>\n",
       "      <th>ave_retweet</th>\n",
       "      <th>ave_favorite</th>\n",
       "      <th>retweet_count</th>\n",
       "      <th>favorite_count</th>\n",
       "      <th>tweet_count</th>\n",
       "    </tr>\n",
       "  </thead>\n",
       "  <tbody>\n",
       "    <tr>\n",
       "      <th>0</th>\n",
       "      <td>AK-00</td>\n",
       "      <td>6.543367</td>\n",
       "      <td>19.433673</td>\n",
       "      <td>2565</td>\n",
       "      <td>7618</td>\n",
       "      <td>392</td>\n",
       "    </tr>\n",
       "    <tr>\n",
       "      <th>1</th>\n",
       "      <td>AL-01</td>\n",
       "      <td>14.382716</td>\n",
       "      <td>21.595679</td>\n",
       "      <td>4660</td>\n",
       "      <td>6997</td>\n",
       "      <td>324</td>\n",
       "    </tr>\n",
       "    <tr>\n",
       "      <th>2</th>\n",
       "      <td>AL-02</td>\n",
       "      <td>17.929286</td>\n",
       "      <td>34.152769</td>\n",
       "      <td>26876</td>\n",
       "      <td>51195</td>\n",
       "      <td>1499</td>\n",
       "    </tr>\n",
       "    <tr>\n",
       "      <th>3</th>\n",
       "      <td>AL-03</td>\n",
       "      <td>10.682791</td>\n",
       "      <td>25.846947</td>\n",
       "      <td>13471</td>\n",
       "      <td>32593</td>\n",
       "      <td>1261</td>\n",
       "    </tr>\n",
       "    <tr>\n",
       "      <th>4</th>\n",
       "      <td>AL-04</td>\n",
       "      <td>15.183857</td>\n",
       "      <td>24.053812</td>\n",
       "      <td>3386</td>\n",
       "      <td>5364</td>\n",
       "      <td>223</td>\n",
       "    </tr>\n",
       "  </tbody>\n",
       "</table>\n",
       "</div>"
      ],
      "text/plain": [
       "  district_key  ave_retweet  ave_favorite  retweet_count  favorite_count  \\\n",
       "0        AK-00     6.543367     19.433673           2565            7618   \n",
       "1        AL-01    14.382716     21.595679           4660            6997   \n",
       "2        AL-02    17.929286     34.152769          26876           51195   \n",
       "3        AL-03    10.682791     25.846947          13471           32593   \n",
       "4        AL-04    15.183857     24.053812           3386            5364   \n",
       "\n",
       "   tweet_count  \n",
       "0          392  \n",
       "1          324  \n",
       "2         1499  \n",
       "3         1261  \n",
       "4          223  "
      ]
     },
     "execution_count": 21,
     "metadata": {},
     "output_type": "execute_result"
    }
   ],
   "source": [
    "democratic_df.head()"
   ]
  },
  {
   "cell_type": "code",
   "execution_count": 22,
   "metadata": {},
   "outputs": [],
   "source": [
    "republican_df = df[df.party == 'Republican'].reset_index(drop=True)"
   ]
  },
  {
   "cell_type": "code",
   "execution_count": 23,
   "metadata": {},
   "outputs": [],
   "source": [
    "republican_df = republican_df.groupby(by='district_key').sum().reset_index()"
   ]
  },
  {
   "cell_type": "code",
   "execution_count": 24,
   "metadata": {},
   "outputs": [
    {
     "data": {
      "text/html": [
       "<div>\n",
       "<style scoped>\n",
       "    .dataframe tbody tr th:only-of-type {\n",
       "        vertical-align: middle;\n",
       "    }\n",
       "\n",
       "    .dataframe tbody tr th {\n",
       "        vertical-align: top;\n",
       "    }\n",
       "\n",
       "    .dataframe thead th {\n",
       "        text-align: right;\n",
       "    }\n",
       "</style>\n",
       "<table border=\"1\" class=\"dataframe\">\n",
       "  <thead>\n",
       "    <tr style=\"text-align: right;\">\n",
       "      <th></th>\n",
       "      <th>district_key</th>\n",
       "      <th>ave_retweet</th>\n",
       "      <th>ave_favorite</th>\n",
       "      <th>retweet_count</th>\n",
       "      <th>favorite_count</th>\n",
       "      <th>tweet_count</th>\n",
       "    </tr>\n",
       "  </thead>\n",
       "  <tbody>\n",
       "    <tr>\n",
       "      <th>0</th>\n",
       "      <td>AK-00</td>\n",
       "      <td>0.666667</td>\n",
       "      <td>4.533333</td>\n",
       "      <td>10</td>\n",
       "      <td>68</td>\n",
       "      <td>15</td>\n",
       "    </tr>\n",
       "    <tr>\n",
       "      <th>1</th>\n",
       "      <td>AL-01</td>\n",
       "      <td>1.742424</td>\n",
       "      <td>5.318182</td>\n",
       "      <td>115</td>\n",
       "      <td>351</td>\n",
       "      <td>66</td>\n",
       "    </tr>\n",
       "    <tr>\n",
       "      <th>2</th>\n",
       "      <td>AL-03</td>\n",
       "      <td>2.166667</td>\n",
       "      <td>4.966667</td>\n",
       "      <td>130</td>\n",
       "      <td>298</td>\n",
       "      <td>60</td>\n",
       "    </tr>\n",
       "    <tr>\n",
       "      <th>3</th>\n",
       "      <td>AL-06</td>\n",
       "      <td>2.157895</td>\n",
       "      <td>7.473684</td>\n",
       "      <td>82</td>\n",
       "      <td>284</td>\n",
       "      <td>38</td>\n",
       "    </tr>\n",
       "    <tr>\n",
       "      <th>4</th>\n",
       "      <td>AR-01</td>\n",
       "      <td>2.238095</td>\n",
       "      <td>4.976190</td>\n",
       "      <td>94</td>\n",
       "      <td>209</td>\n",
       "      <td>42</td>\n",
       "    </tr>\n",
       "  </tbody>\n",
       "</table>\n",
       "</div>"
      ],
      "text/plain": [
       "  district_key  ave_retweet  ave_favorite  retweet_count  favorite_count  \\\n",
       "0        AK-00     0.666667      4.533333             10              68   \n",
       "1        AL-01     1.742424      5.318182            115             351   \n",
       "2        AL-03     2.166667      4.966667            130             298   \n",
       "3        AL-06     2.157895      7.473684             82             284   \n",
       "4        AR-01     2.238095      4.976190             94             209   \n",
       "\n",
       "   tweet_count  \n",
       "0           15  \n",
       "1           66  \n",
       "2           60  \n",
       "3           38  \n",
       "4           42  "
      ]
     },
     "execution_count": 24,
     "metadata": {},
     "output_type": "execute_result"
    }
   ],
   "source": [
    "republican_df.head()"
   ]
  },
  {
   "cell_type": "code",
   "execution_count": 25,
   "metadata": {},
   "outputs": [],
   "source": [
    "republican_df.ave_retweet = republican_df.retweet_count / republican_df.tweet_count"
   ]
  },
  {
   "cell_type": "code",
   "execution_count": 26,
   "metadata": {},
   "outputs": [],
   "source": [
    "republican_df.ave_favorite = republican_df.favorite_count / republican_df.tweet_count"
   ]
  },
  {
   "cell_type": "code",
   "execution_count": 27,
   "metadata": {},
   "outputs": [
    {
     "data": {
      "text/html": [
       "<div>\n",
       "<style scoped>\n",
       "    .dataframe tbody tr th:only-of-type {\n",
       "        vertical-align: middle;\n",
       "    }\n",
       "\n",
       "    .dataframe tbody tr th {\n",
       "        vertical-align: top;\n",
       "    }\n",
       "\n",
       "    .dataframe thead th {\n",
       "        text-align: right;\n",
       "    }\n",
       "</style>\n",
       "<table border=\"1\" class=\"dataframe\">\n",
       "  <thead>\n",
       "    <tr style=\"text-align: right;\">\n",
       "      <th></th>\n",
       "      <th>district_key</th>\n",
       "      <th>ave_retweet</th>\n",
       "      <th>ave_favorite</th>\n",
       "      <th>retweet_count</th>\n",
       "      <th>favorite_count</th>\n",
       "      <th>tweet_count</th>\n",
       "    </tr>\n",
       "  </thead>\n",
       "  <tbody>\n",
       "    <tr>\n",
       "      <th>0</th>\n",
       "      <td>AK-00</td>\n",
       "      <td>0.666667</td>\n",
       "      <td>4.533333</td>\n",
       "      <td>10</td>\n",
       "      <td>68</td>\n",
       "      <td>15</td>\n",
       "    </tr>\n",
       "    <tr>\n",
       "      <th>1</th>\n",
       "      <td>AL-01</td>\n",
       "      <td>1.742424</td>\n",
       "      <td>5.318182</td>\n",
       "      <td>115</td>\n",
       "      <td>351</td>\n",
       "      <td>66</td>\n",
       "    </tr>\n",
       "    <tr>\n",
       "      <th>2</th>\n",
       "      <td>AL-03</td>\n",
       "      <td>2.166667</td>\n",
       "      <td>4.966667</td>\n",
       "      <td>130</td>\n",
       "      <td>298</td>\n",
       "      <td>60</td>\n",
       "    </tr>\n",
       "    <tr>\n",
       "      <th>3</th>\n",
       "      <td>AL-06</td>\n",
       "      <td>2.157895</td>\n",
       "      <td>7.473684</td>\n",
       "      <td>82</td>\n",
       "      <td>284</td>\n",
       "      <td>38</td>\n",
       "    </tr>\n",
       "    <tr>\n",
       "      <th>4</th>\n",
       "      <td>AR-01</td>\n",
       "      <td>2.238095</td>\n",
       "      <td>4.976190</td>\n",
       "      <td>94</td>\n",
       "      <td>209</td>\n",
       "      <td>42</td>\n",
       "    </tr>\n",
       "  </tbody>\n",
       "</table>\n",
       "</div>"
      ],
      "text/plain": [
       "  district_key  ave_retweet  ave_favorite  retweet_count  favorite_count  \\\n",
       "0        AK-00     0.666667      4.533333             10              68   \n",
       "1        AL-01     1.742424      5.318182            115             351   \n",
       "2        AL-03     2.166667      4.966667            130             298   \n",
       "3        AL-06     2.157895      7.473684             82             284   \n",
       "4        AR-01     2.238095      4.976190             94             209   \n",
       "\n",
       "   tweet_count  \n",
       "0           15  \n",
       "1           66  \n",
       "2           60  \n",
       "3           38  \n",
       "4           42  "
      ]
     },
     "execution_count": 27,
     "metadata": {},
     "output_type": "execute_result"
    }
   ],
   "source": [
    "republican_df.head()"
   ]
  },
  {
   "cell_type": "code",
   "execution_count": 28,
   "metadata": {},
   "outputs": [],
   "source": [
    "district_df = df.district_key.value_counts().reset_index()"
   ]
  },
  {
   "cell_type": "code",
   "execution_count": 29,
   "metadata": {},
   "outputs": [],
   "source": [
    "district_df.columns = ['district_key','counts']"
   ]
  },
  {
   "cell_type": "code",
   "execution_count": 30,
   "metadata": {},
   "outputs": [
    {
     "data": {
      "text/html": [
       "<div>\n",
       "<style scoped>\n",
       "    .dataframe tbody tr th:only-of-type {\n",
       "        vertical-align: middle;\n",
       "    }\n",
       "\n",
       "    .dataframe tbody tr th {\n",
       "        vertical-align: top;\n",
       "    }\n",
       "\n",
       "    .dataframe thead th {\n",
       "        text-align: right;\n",
       "    }\n",
       "</style>\n",
       "<table border=\"1\" class=\"dataframe\">\n",
       "  <thead>\n",
       "    <tr style=\"text-align: right;\">\n",
       "      <th></th>\n",
       "      <th>district_key</th>\n",
       "      <th>counts</th>\n",
       "    </tr>\n",
       "  </thead>\n",
       "  <tbody>\n",
       "    <tr>\n",
       "      <th>0</th>\n",
       "      <td>LA-03</td>\n",
       "      <td>4</td>\n",
       "    </tr>\n",
       "    <tr>\n",
       "      <th>1</th>\n",
       "      <td>LA-06</td>\n",
       "      <td>3</td>\n",
       "    </tr>\n",
       "    <tr>\n",
       "      <th>2</th>\n",
       "      <td>LA-01</td>\n",
       "      <td>3</td>\n",
       "    </tr>\n",
       "    <tr>\n",
       "      <th>3</th>\n",
       "      <td>NY-09</td>\n",
       "      <td>2</td>\n",
       "    </tr>\n",
       "    <tr>\n",
       "      <th>4</th>\n",
       "      <td>IL-15</td>\n",
       "      <td>2</td>\n",
       "    </tr>\n",
       "  </tbody>\n",
       "</table>\n",
       "</div>"
      ],
      "text/plain": [
       "  district_key  counts\n",
       "0        LA-03       4\n",
       "1        LA-06       3\n",
       "2        LA-01       3\n",
       "3        NY-09       2\n",
       "4        IL-15       2"
      ]
     },
     "execution_count": 30,
     "metadata": {},
     "output_type": "execute_result"
    }
   ],
   "source": [
    "district_df.head()"
   ]
  },
  {
   "cell_type": "code",
   "execution_count": 31,
   "metadata": {},
   "outputs": [],
   "source": [
    "district_df['democratic'] = np.nan\n",
    "district_df['republican'] = np.nan"
   ]
  },
  {
   "cell_type": "code",
   "execution_count": 32,
   "metadata": {},
   "outputs": [
    {
     "data": {
      "text/html": [
       "<div>\n",
       "<style scoped>\n",
       "    .dataframe tbody tr th:only-of-type {\n",
       "        vertical-align: middle;\n",
       "    }\n",
       "\n",
       "    .dataframe tbody tr th {\n",
       "        vertical-align: top;\n",
       "    }\n",
       "\n",
       "    .dataframe thead th {\n",
       "        text-align: right;\n",
       "    }\n",
       "</style>\n",
       "<table border=\"1\" class=\"dataframe\">\n",
       "  <thead>\n",
       "    <tr style=\"text-align: right;\">\n",
       "      <th></th>\n",
       "      <th>district_key</th>\n",
       "      <th>counts</th>\n",
       "      <th>democratic</th>\n",
       "      <th>republican</th>\n",
       "    </tr>\n",
       "  </thead>\n",
       "  <tbody>\n",
       "    <tr>\n",
       "      <th>0</th>\n",
       "      <td>LA-03</td>\n",
       "      <td>4</td>\n",
       "      <td>NaN</td>\n",
       "      <td>NaN</td>\n",
       "    </tr>\n",
       "    <tr>\n",
       "      <th>1</th>\n",
       "      <td>LA-06</td>\n",
       "      <td>3</td>\n",
       "      <td>NaN</td>\n",
       "      <td>NaN</td>\n",
       "    </tr>\n",
       "    <tr>\n",
       "      <th>2</th>\n",
       "      <td>LA-01</td>\n",
       "      <td>3</td>\n",
       "      <td>NaN</td>\n",
       "      <td>NaN</td>\n",
       "    </tr>\n",
       "    <tr>\n",
       "      <th>3</th>\n",
       "      <td>NY-09</td>\n",
       "      <td>2</td>\n",
       "      <td>NaN</td>\n",
       "      <td>NaN</td>\n",
       "    </tr>\n",
       "    <tr>\n",
       "      <th>4</th>\n",
       "      <td>IL-15</td>\n",
       "      <td>2</td>\n",
       "      <td>NaN</td>\n",
       "      <td>NaN</td>\n",
       "    </tr>\n",
       "  </tbody>\n",
       "</table>\n",
       "</div>"
      ],
      "text/plain": [
       "  district_key  counts  democratic  republican\n",
       "0        LA-03       4         NaN         NaN\n",
       "1        LA-06       3         NaN         NaN\n",
       "2        LA-01       3         NaN         NaN\n",
       "3        NY-09       2         NaN         NaN\n",
       "4        IL-15       2         NaN         NaN"
      ]
     },
     "execution_count": 32,
     "metadata": {},
     "output_type": "execute_result"
    }
   ],
   "source": [
    "district_df.head()"
   ]
  },
  {
   "cell_type": "code",
   "execution_count": 33,
   "metadata": {},
   "outputs": [],
   "source": [
    "for i in range(0,len(district_df)):\n",
    "    for j in range(0,len(democratic_df)):\n",
    "        if district_df.iloc[i,0] == democratic_df.iloc[j,0]:\n",
    "            district_df.iloc[i,2] = democratic_df.iloc[j,1]"
   ]
  },
  {
   "cell_type": "code",
   "execution_count": 34,
   "metadata": {},
   "outputs": [],
   "source": [
    "for i in range(0,len(district_df)):\n",
    "    for j in range(0,len(republican_df)):\n",
    "        if district_df.iloc[i,0] == republican_df.iloc[j,0]:\n",
    "            district_df.iloc[i,3] = republican_df.iloc[j,1]"
   ]
  },
  {
   "cell_type": "code",
   "execution_count": 35,
   "metadata": {},
   "outputs": [
    {
     "data": {
      "text/html": [
       "<div>\n",
       "<style scoped>\n",
       "    .dataframe tbody tr th:only-of-type {\n",
       "        vertical-align: middle;\n",
       "    }\n",
       "\n",
       "    .dataframe tbody tr th {\n",
       "        vertical-align: top;\n",
       "    }\n",
       "\n",
       "    .dataframe thead th {\n",
       "        text-align: right;\n",
       "    }\n",
       "</style>\n",
       "<table border=\"1\" class=\"dataframe\">\n",
       "  <thead>\n",
       "    <tr style=\"text-align: right;\">\n",
       "      <th></th>\n",
       "      <th>district_key</th>\n",
       "      <th>counts</th>\n",
       "      <th>democratic</th>\n",
       "      <th>republican</th>\n",
       "    </tr>\n",
       "  </thead>\n",
       "  <tbody>\n",
       "    <tr>\n",
       "      <th>0</th>\n",
       "      <td>LA-03</td>\n",
       "      <td>4</td>\n",
       "      <td>7.030172</td>\n",
       "      <td>1.900000</td>\n",
       "    </tr>\n",
       "    <tr>\n",
       "      <th>1</th>\n",
       "      <td>LA-06</td>\n",
       "      <td>3</td>\n",
       "      <td>8.347670</td>\n",
       "      <td>0.571429</td>\n",
       "    </tr>\n",
       "    <tr>\n",
       "      <th>2</th>\n",
       "      <td>LA-01</td>\n",
       "      <td>3</td>\n",
       "      <td>10.019749</td>\n",
       "      <td>2.500000</td>\n",
       "    </tr>\n",
       "    <tr>\n",
       "      <th>3</th>\n",
       "      <td>NY-09</td>\n",
       "      <td>2</td>\n",
       "      <td>2.197044</td>\n",
       "      <td>19.278409</td>\n",
       "    </tr>\n",
       "    <tr>\n",
       "      <th>4</th>\n",
       "      <td>IL-15</td>\n",
       "      <td>2</td>\n",
       "      <td>1.828244</td>\n",
       "      <td>0.000000</td>\n",
       "    </tr>\n",
       "  </tbody>\n",
       "</table>\n",
       "</div>"
      ],
      "text/plain": [
       "  district_key  counts  democratic  republican\n",
       "0        LA-03       4    7.030172    1.900000\n",
       "1        LA-06       3    8.347670    0.571429\n",
       "2        LA-01       3   10.019749    2.500000\n",
       "3        NY-09       2    2.197044   19.278409\n",
       "4        IL-15       2    1.828244    0.000000"
      ]
     },
     "execution_count": 35,
     "metadata": {},
     "output_type": "execute_result"
    }
   ],
   "source": [
    "district_df.head()"
   ]
  },
  {
   "cell_type": "code",
   "execution_count": 36,
   "metadata": {},
   "outputs": [],
   "source": [
    "district_df = district_df.fillna(0)"
   ]
  },
  {
   "cell_type": "code",
   "execution_count": 37,
   "metadata": {},
   "outputs": [],
   "source": [
    "district_df['active'] = np.nan"
   ]
  },
  {
   "cell_type": "code",
   "execution_count": 38,
   "metadata": {},
   "outputs": [],
   "source": [
    "for i in range(0,len(district_df)):\n",
    "    if district_df.iloc[i,2] > district_df.iloc[i,3]:\n",
    "        district_df.iloc[i,4] = 'Democratic'\n",
    "    else:\n",
    "        district_df.iloc[i,4] = 'Republican'"
   ]
  },
  {
   "cell_type": "code",
   "execution_count": 39,
   "metadata": {},
   "outputs": [
    {
     "data": {
      "text/html": [
       "<div>\n",
       "<style scoped>\n",
       "    .dataframe tbody tr th:only-of-type {\n",
       "        vertical-align: middle;\n",
       "    }\n",
       "\n",
       "    .dataframe tbody tr th {\n",
       "        vertical-align: top;\n",
       "    }\n",
       "\n",
       "    .dataframe thead th {\n",
       "        text-align: right;\n",
       "    }\n",
       "</style>\n",
       "<table border=\"1\" class=\"dataframe\">\n",
       "  <thead>\n",
       "    <tr style=\"text-align: right;\">\n",
       "      <th></th>\n",
       "      <th>district_key</th>\n",
       "      <th>counts</th>\n",
       "      <th>democratic</th>\n",
       "      <th>republican</th>\n",
       "      <th>active</th>\n",
       "    </tr>\n",
       "  </thead>\n",
       "  <tbody>\n",
       "    <tr>\n",
       "      <th>0</th>\n",
       "      <td>LA-03</td>\n",
       "      <td>4</td>\n",
       "      <td>7.030172</td>\n",
       "      <td>1.900000</td>\n",
       "      <td>Democratic</td>\n",
       "    </tr>\n",
       "    <tr>\n",
       "      <th>1</th>\n",
       "      <td>LA-06</td>\n",
       "      <td>3</td>\n",
       "      <td>8.347670</td>\n",
       "      <td>0.571429</td>\n",
       "      <td>Democratic</td>\n",
       "    </tr>\n",
       "    <tr>\n",
       "      <th>2</th>\n",
       "      <td>LA-01</td>\n",
       "      <td>3</td>\n",
       "      <td>10.019749</td>\n",
       "      <td>2.500000</td>\n",
       "      <td>Democratic</td>\n",
       "    </tr>\n",
       "    <tr>\n",
       "      <th>3</th>\n",
       "      <td>NY-09</td>\n",
       "      <td>2</td>\n",
       "      <td>2.197044</td>\n",
       "      <td>19.278409</td>\n",
       "      <td>Republican</td>\n",
       "    </tr>\n",
       "    <tr>\n",
       "      <th>4</th>\n",
       "      <td>IL-15</td>\n",
       "      <td>2</td>\n",
       "      <td>1.828244</td>\n",
       "      <td>0.000000</td>\n",
       "      <td>Democratic</td>\n",
       "    </tr>\n",
       "  </tbody>\n",
       "</table>\n",
       "</div>"
      ],
      "text/plain": [
       "  district_key  counts  democratic  republican      active\n",
       "0        LA-03       4    7.030172    1.900000  Democratic\n",
       "1        LA-06       3    8.347670    0.571429  Democratic\n",
       "2        LA-01       3   10.019749    2.500000  Democratic\n",
       "3        NY-09       2    2.197044   19.278409  Republican\n",
       "4        IL-15       2    1.828244    0.000000  Democratic"
      ]
     },
     "execution_count": 39,
     "metadata": {},
     "output_type": "execute_result"
    }
   ],
   "source": [
    "district_df.head()"
   ]
  },
  {
   "cell_type": "code",
   "execution_count": 40,
   "metadata": {},
   "outputs": [
    {
     "data": {
      "text/plain": [
       "Democratic    306\n",
       "Republican     90\n",
       "Name: active, dtype: int64"
      ]
     },
     "execution_count": 40,
     "metadata": {},
     "output_type": "execute_result"
    }
   ],
   "source": [
    "district_df.active.value_counts()"
   ]
  },
  {
   "cell_type": "code",
   "execution_count": 41,
   "metadata": {},
   "outputs": [],
   "source": [
    "rating_df = pd.read_csv('Rating.csv')"
   ]
  },
  {
   "cell_type": "code",
   "execution_count": 42,
   "metadata": {},
   "outputs": [
    {
     "data": {
      "text/html": [
       "<div>\n",
       "<style scoped>\n",
       "    .dataframe tbody tr th:only-of-type {\n",
       "        vertical-align: middle;\n",
       "    }\n",
       "\n",
       "    .dataframe tbody tr th {\n",
       "        vertical-align: top;\n",
       "    }\n",
       "\n",
       "    .dataframe thead th {\n",
       "        text-align: right;\n",
       "    }\n",
       "</style>\n",
       "<table border=\"1\" class=\"dataframe\">\n",
       "  <thead>\n",
       "    <tr style=\"text-align: right;\">\n",
       "      <th></th>\n",
       "      <th>District</th>\n",
       "      <th>Rating</th>\n",
       "      <th>Representative</th>\n",
       "      <th>STATEFP</th>\n",
       "      <th>CD115FP</th>\n",
       "      <th>AFFGEOID</th>\n",
       "    </tr>\n",
       "  </thead>\n",
       "  <tbody>\n",
       "    <tr>\n",
       "      <th>0</th>\n",
       "      <td>AL-07</td>\n",
       "      <td>Solid Democratic</td>\n",
       "      <td>Terri Sewell</td>\n",
       "      <td>1</td>\n",
       "      <td>7</td>\n",
       "      <td>5001500US0107</td>\n",
       "    </tr>\n",
       "    <tr>\n",
       "      <th>1</th>\n",
       "      <td>AZ-03</td>\n",
       "      <td>Solid Democratic</td>\n",
       "      <td>Raúl Grijalva</td>\n",
       "      <td>4</td>\n",
       "      <td>3</td>\n",
       "      <td>5001500US0403</td>\n",
       "    </tr>\n",
       "    <tr>\n",
       "      <th>2</th>\n",
       "      <td>AZ-07</td>\n",
       "      <td>Solid Democratic</td>\n",
       "      <td>Ruben Gallego</td>\n",
       "      <td>4</td>\n",
       "      <td>7</td>\n",
       "      <td>5001500US0407</td>\n",
       "    </tr>\n",
       "    <tr>\n",
       "      <th>3</th>\n",
       "      <td>AZ-09</td>\n",
       "      <td>Solid Democratic</td>\n",
       "      <td>Open</td>\n",
       "      <td>4</td>\n",
       "      <td>9</td>\n",
       "      <td>5001500US0409</td>\n",
       "    </tr>\n",
       "    <tr>\n",
       "      <th>4</th>\n",
       "      <td>CA-02</td>\n",
       "      <td>Solid Democratic</td>\n",
       "      <td>Jared Huffman</td>\n",
       "      <td>6</td>\n",
       "      <td>2</td>\n",
       "      <td>5001500US0602</td>\n",
       "    </tr>\n",
       "  </tbody>\n",
       "</table>\n",
       "</div>"
      ],
      "text/plain": [
       "  District            Rating  Representative  STATEFP  CD115FP       AFFGEOID\n",
       "0    AL-07  Solid Democratic    Terri Sewell        1        7  5001500US0107\n",
       "1    AZ-03  Solid Democratic   Raúl Grijalva        4        3  5001500US0403\n",
       "2    AZ-07  Solid Democratic   Ruben Gallego        4        7  5001500US0407\n",
       "3    AZ-09  Solid Democratic            Open        4        9  5001500US0409\n",
       "4    CA-02  Solid Democratic   Jared Huffman        6        2  5001500US0602"
      ]
     },
     "execution_count": 42,
     "metadata": {},
     "output_type": "execute_result"
    }
   ],
   "source": [
    "rating_df.head()"
   ]
  },
  {
   "cell_type": "code",
   "execution_count": 43,
   "metadata": {},
   "outputs": [],
   "source": [
    "district_df['rating'] = np.nan"
   ]
  },
  {
   "cell_type": "code",
   "execution_count": 44,
   "metadata": {},
   "outputs": [
    {
     "data": {
      "text/html": [
       "<div>\n",
       "<style scoped>\n",
       "    .dataframe tbody tr th:only-of-type {\n",
       "        vertical-align: middle;\n",
       "    }\n",
       "\n",
       "    .dataframe tbody tr th {\n",
       "        vertical-align: top;\n",
       "    }\n",
       "\n",
       "    .dataframe thead th {\n",
       "        text-align: right;\n",
       "    }\n",
       "</style>\n",
       "<table border=\"1\" class=\"dataframe\">\n",
       "  <thead>\n",
       "    <tr style=\"text-align: right;\">\n",
       "      <th></th>\n",
       "      <th>district_key</th>\n",
       "      <th>counts</th>\n",
       "      <th>democratic</th>\n",
       "      <th>republican</th>\n",
       "      <th>active</th>\n",
       "      <th>rating</th>\n",
       "    </tr>\n",
       "  </thead>\n",
       "  <tbody>\n",
       "    <tr>\n",
       "      <th>0</th>\n",
       "      <td>LA-03</td>\n",
       "      <td>4</td>\n",
       "      <td>7.030172</td>\n",
       "      <td>1.900000</td>\n",
       "      <td>Democratic</td>\n",
       "      <td>NaN</td>\n",
       "    </tr>\n",
       "    <tr>\n",
       "      <th>1</th>\n",
       "      <td>LA-06</td>\n",
       "      <td>3</td>\n",
       "      <td>8.347670</td>\n",
       "      <td>0.571429</td>\n",
       "      <td>Democratic</td>\n",
       "      <td>NaN</td>\n",
       "    </tr>\n",
       "    <tr>\n",
       "      <th>2</th>\n",
       "      <td>LA-01</td>\n",
       "      <td>3</td>\n",
       "      <td>10.019749</td>\n",
       "      <td>2.500000</td>\n",
       "      <td>Democratic</td>\n",
       "      <td>NaN</td>\n",
       "    </tr>\n",
       "    <tr>\n",
       "      <th>3</th>\n",
       "      <td>NY-09</td>\n",
       "      <td>2</td>\n",
       "      <td>2.197044</td>\n",
       "      <td>19.278409</td>\n",
       "      <td>Republican</td>\n",
       "      <td>NaN</td>\n",
       "    </tr>\n",
       "    <tr>\n",
       "      <th>4</th>\n",
       "      <td>IL-15</td>\n",
       "      <td>2</td>\n",
       "      <td>1.828244</td>\n",
       "      <td>0.000000</td>\n",
       "      <td>Democratic</td>\n",
       "      <td>NaN</td>\n",
       "    </tr>\n",
       "  </tbody>\n",
       "</table>\n",
       "</div>"
      ],
      "text/plain": [
       "  district_key  counts  democratic  republican      active  rating\n",
       "0        LA-03       4    7.030172    1.900000  Democratic     NaN\n",
       "1        LA-06       3    8.347670    0.571429  Democratic     NaN\n",
       "2        LA-01       3   10.019749    2.500000  Democratic     NaN\n",
       "3        NY-09       2    2.197044   19.278409  Republican     NaN\n",
       "4        IL-15       2    1.828244    0.000000  Democratic     NaN"
      ]
     },
     "execution_count": 44,
     "metadata": {},
     "output_type": "execute_result"
    }
   ],
   "source": [
    "district_df.head()"
   ]
  },
  {
   "cell_type": "code",
   "execution_count": 45,
   "metadata": {},
   "outputs": [],
   "source": [
    "for i in range(0,len(district_df)):\n",
    "    for j in range(0,len(rating_df)):\n",
    "        if district_df.iloc[i,0] == rating_df.iloc[j,0]:\n",
    "            district_df.iloc[i,5] = rating_df.iloc[j,1]"
   ]
  },
  {
   "cell_type": "code",
   "execution_count": 46,
   "metadata": {},
   "outputs": [
    {
     "data": {
      "text/html": [
       "<div>\n",
       "<style scoped>\n",
       "    .dataframe tbody tr th:only-of-type {\n",
       "        vertical-align: middle;\n",
       "    }\n",
       "\n",
       "    .dataframe tbody tr th {\n",
       "        vertical-align: top;\n",
       "    }\n",
       "\n",
       "    .dataframe thead th {\n",
       "        text-align: right;\n",
       "    }\n",
       "</style>\n",
       "<table border=\"1\" class=\"dataframe\">\n",
       "  <thead>\n",
       "    <tr style=\"text-align: right;\">\n",
       "      <th></th>\n",
       "      <th>district_key</th>\n",
       "      <th>counts</th>\n",
       "      <th>democratic</th>\n",
       "      <th>republican</th>\n",
       "      <th>active</th>\n",
       "      <th>rating</th>\n",
       "    </tr>\n",
       "  </thead>\n",
       "  <tbody>\n",
       "    <tr>\n",
       "      <th>0</th>\n",
       "      <td>LA-03</td>\n",
       "      <td>4</td>\n",
       "      <td>7.030172</td>\n",
       "      <td>1.900000</td>\n",
       "      <td>Democratic</td>\n",
       "      <td>Solid Republican</td>\n",
       "    </tr>\n",
       "    <tr>\n",
       "      <th>1</th>\n",
       "      <td>LA-06</td>\n",
       "      <td>3</td>\n",
       "      <td>8.347670</td>\n",
       "      <td>0.571429</td>\n",
       "      <td>Democratic</td>\n",
       "      <td>Solid Republican</td>\n",
       "    </tr>\n",
       "    <tr>\n",
       "      <th>2</th>\n",
       "      <td>LA-01</td>\n",
       "      <td>3</td>\n",
       "      <td>10.019749</td>\n",
       "      <td>2.500000</td>\n",
       "      <td>Democratic</td>\n",
       "      <td>Solid Republican</td>\n",
       "    </tr>\n",
       "    <tr>\n",
       "      <th>3</th>\n",
       "      <td>NY-09</td>\n",
       "      <td>2</td>\n",
       "      <td>2.197044</td>\n",
       "      <td>19.278409</td>\n",
       "      <td>Republican</td>\n",
       "      <td>Solid Democratic</td>\n",
       "    </tr>\n",
       "    <tr>\n",
       "      <th>4</th>\n",
       "      <td>IL-15</td>\n",
       "      <td>2</td>\n",
       "      <td>1.828244</td>\n",
       "      <td>0.000000</td>\n",
       "      <td>Democratic</td>\n",
       "      <td>Solid Republican</td>\n",
       "    </tr>\n",
       "  </tbody>\n",
       "</table>\n",
       "</div>"
      ],
      "text/plain": [
       "  district_key  counts  democratic  republican      active            rating\n",
       "0        LA-03       4    7.030172    1.900000  Democratic  Solid Republican\n",
       "1        LA-06       3    8.347670    0.571429  Democratic  Solid Republican\n",
       "2        LA-01       3   10.019749    2.500000  Democratic  Solid Republican\n",
       "3        NY-09       2    2.197044   19.278409  Republican  Solid Democratic\n",
       "4        IL-15       2    1.828244    0.000000  Democratic  Solid Republican"
      ]
     },
     "execution_count": 46,
     "metadata": {},
     "output_type": "execute_result"
    }
   ],
   "source": [
    "district_df.head()"
   ]
  },
  {
   "cell_type": "code",
   "execution_count": 47,
   "metadata": {},
   "outputs": [
    {
     "data": {
      "text/plain": [
       "396"
      ]
     },
     "execution_count": 47,
     "metadata": {},
     "output_type": "execute_result"
    }
   ],
   "source": [
    "len(district_df)"
   ]
  },
  {
   "cell_type": "code",
   "execution_count": 48,
   "metadata": {},
   "outputs": [],
   "source": [
    "district_df.to_csv('district.csv',index=False)"
   ]
  },
  {
   "cell_type": "code",
   "execution_count": 49,
   "metadata": {},
   "outputs": [
    {
     "data": {
      "text/plain": [
       "Democratic    154\n",
       "Republican     36\n",
       "Name: active, dtype: int64"
      ]
     },
     "execution_count": 49,
     "metadata": {},
     "output_type": "execute_result"
    }
   ],
   "source": [
    "district_df[(district_df.rating == 'Solid Republican') | (district_df.rating == 'Likely Republican') | (district_df.rating == 'Lean Republican')].active.value_counts()"
   ]
  },
  {
   "cell_type": "code",
   "execution_count": 50,
   "metadata": {},
   "outputs": [
    {
     "data": {
      "text/plain": [
       "Democratic    123\n",
       "Republican     52\n",
       "Name: active, dtype: int64"
      ]
     },
     "execution_count": 50,
     "metadata": {},
     "output_type": "execute_result"
    }
   ],
   "source": [
    "district_df[(district_df.rating == 'Solid Democratic') | (district_df.rating == 'Likely Democratic') | (district_df.rating == 'Lean Democratic')].active.value_counts()"
   ]
  },
  {
   "cell_type": "code",
   "execution_count": 51,
   "metadata": {
    "scrolled": true
   },
   "outputs": [
    {
     "data": {
      "text/plain": [
       "Democratic    29\n",
       "Republican     2\n",
       "Name: active, dtype: int64"
      ]
     },
     "execution_count": 51,
     "metadata": {},
     "output_type": "execute_result"
    }
   ],
   "source": [
    "district_df[(district_df.rating == 'Toss-Up Democratic') | (district_df.rating == 'Toss-Up Republican')].active.value_counts()"
   ]
  },
  {
   "cell_type": "markdown",
   "metadata": {},
   "source": [
    "### Adding GEOID"
   ]
  },
  {
   "cell_type": "code",
   "execution_count": 52,
   "metadata": {},
   "outputs": [],
   "source": [
    "district_df['AFFGEOID'] = np.nan"
   ]
  },
  {
   "cell_type": "code",
   "execution_count": 53,
   "metadata": {},
   "outputs": [
    {
     "data": {
      "text/html": [
       "<div>\n",
       "<style scoped>\n",
       "    .dataframe tbody tr th:only-of-type {\n",
       "        vertical-align: middle;\n",
       "    }\n",
       "\n",
       "    .dataframe tbody tr th {\n",
       "        vertical-align: top;\n",
       "    }\n",
       "\n",
       "    .dataframe thead th {\n",
       "        text-align: right;\n",
       "    }\n",
       "</style>\n",
       "<table border=\"1\" class=\"dataframe\">\n",
       "  <thead>\n",
       "    <tr style=\"text-align: right;\">\n",
       "      <th></th>\n",
       "      <th>district_key</th>\n",
       "      <th>counts</th>\n",
       "      <th>democratic</th>\n",
       "      <th>republican</th>\n",
       "      <th>active</th>\n",
       "      <th>rating</th>\n",
       "      <th>AFFGEOID</th>\n",
       "    </tr>\n",
       "  </thead>\n",
       "  <tbody>\n",
       "    <tr>\n",
       "      <th>0</th>\n",
       "      <td>LA-03</td>\n",
       "      <td>4</td>\n",
       "      <td>7.030172</td>\n",
       "      <td>1.900000</td>\n",
       "      <td>Democratic</td>\n",
       "      <td>Solid Republican</td>\n",
       "      <td>NaN</td>\n",
       "    </tr>\n",
       "    <tr>\n",
       "      <th>1</th>\n",
       "      <td>LA-06</td>\n",
       "      <td>3</td>\n",
       "      <td>8.347670</td>\n",
       "      <td>0.571429</td>\n",
       "      <td>Democratic</td>\n",
       "      <td>Solid Republican</td>\n",
       "      <td>NaN</td>\n",
       "    </tr>\n",
       "    <tr>\n",
       "      <th>2</th>\n",
       "      <td>LA-01</td>\n",
       "      <td>3</td>\n",
       "      <td>10.019749</td>\n",
       "      <td>2.500000</td>\n",
       "      <td>Democratic</td>\n",
       "      <td>Solid Republican</td>\n",
       "      <td>NaN</td>\n",
       "    </tr>\n",
       "    <tr>\n",
       "      <th>3</th>\n",
       "      <td>NY-09</td>\n",
       "      <td>2</td>\n",
       "      <td>2.197044</td>\n",
       "      <td>19.278409</td>\n",
       "      <td>Republican</td>\n",
       "      <td>Solid Democratic</td>\n",
       "      <td>NaN</td>\n",
       "    </tr>\n",
       "    <tr>\n",
       "      <th>4</th>\n",
       "      <td>IL-15</td>\n",
       "      <td>2</td>\n",
       "      <td>1.828244</td>\n",
       "      <td>0.000000</td>\n",
       "      <td>Democratic</td>\n",
       "      <td>Solid Republican</td>\n",
       "      <td>NaN</td>\n",
       "    </tr>\n",
       "  </tbody>\n",
       "</table>\n",
       "</div>"
      ],
      "text/plain": [
       "  district_key  counts  democratic  republican      active            rating  \\\n",
       "0        LA-03       4    7.030172    1.900000  Democratic  Solid Republican   \n",
       "1        LA-06       3    8.347670    0.571429  Democratic  Solid Republican   \n",
       "2        LA-01       3   10.019749    2.500000  Democratic  Solid Republican   \n",
       "3        NY-09       2    2.197044   19.278409  Republican  Solid Democratic   \n",
       "4        IL-15       2    1.828244    0.000000  Democratic  Solid Republican   \n",
       "\n",
       "   AFFGEOID  \n",
       "0       NaN  \n",
       "1       NaN  \n",
       "2       NaN  \n",
       "3       NaN  \n",
       "4       NaN  "
      ]
     },
     "execution_count": 53,
     "metadata": {},
     "output_type": "execute_result"
    }
   ],
   "source": [
    "district_df.head()"
   ]
  },
  {
   "cell_type": "code",
   "execution_count": 54,
   "metadata": {},
   "outputs": [],
   "source": [
    "for i in range(0,len(district_df)):\n",
    "    for j in range(0,len(rating_df)):\n",
    "        if district_df.iloc[i,0] == rating_df.iloc[j,0]:\n",
    "            district_df.iloc[i,6] = rating_df.iloc[j,5]"
   ]
  },
  {
   "cell_type": "code",
   "execution_count": 55,
   "metadata": {},
   "outputs": [
    {
     "data": {
      "text/html": [
       "<div>\n",
       "<style scoped>\n",
       "    .dataframe tbody tr th:only-of-type {\n",
       "        vertical-align: middle;\n",
       "    }\n",
       "\n",
       "    .dataframe tbody tr th {\n",
       "        vertical-align: top;\n",
       "    }\n",
       "\n",
       "    .dataframe thead th {\n",
       "        text-align: right;\n",
       "    }\n",
       "</style>\n",
       "<table border=\"1\" class=\"dataframe\">\n",
       "  <thead>\n",
       "    <tr style=\"text-align: right;\">\n",
       "      <th></th>\n",
       "      <th>district_key</th>\n",
       "      <th>counts</th>\n",
       "      <th>democratic</th>\n",
       "      <th>republican</th>\n",
       "      <th>active</th>\n",
       "      <th>rating</th>\n",
       "      <th>AFFGEOID</th>\n",
       "    </tr>\n",
       "  </thead>\n",
       "  <tbody>\n",
       "    <tr>\n",
       "      <th>0</th>\n",
       "      <td>LA-03</td>\n",
       "      <td>4</td>\n",
       "      <td>7.030172</td>\n",
       "      <td>1.900000</td>\n",
       "      <td>Democratic</td>\n",
       "      <td>Solid Republican</td>\n",
       "      <td>5001500US2203</td>\n",
       "    </tr>\n",
       "    <tr>\n",
       "      <th>1</th>\n",
       "      <td>LA-06</td>\n",
       "      <td>3</td>\n",
       "      <td>8.347670</td>\n",
       "      <td>0.571429</td>\n",
       "      <td>Democratic</td>\n",
       "      <td>Solid Republican</td>\n",
       "      <td>5001500US2206</td>\n",
       "    </tr>\n",
       "    <tr>\n",
       "      <th>2</th>\n",
       "      <td>LA-01</td>\n",
       "      <td>3</td>\n",
       "      <td>10.019749</td>\n",
       "      <td>2.500000</td>\n",
       "      <td>Democratic</td>\n",
       "      <td>Solid Republican</td>\n",
       "      <td>5001500US2201</td>\n",
       "    </tr>\n",
       "    <tr>\n",
       "      <th>3</th>\n",
       "      <td>NY-09</td>\n",
       "      <td>2</td>\n",
       "      <td>2.197044</td>\n",
       "      <td>19.278409</td>\n",
       "      <td>Republican</td>\n",
       "      <td>Solid Democratic</td>\n",
       "      <td>5001500US3609</td>\n",
       "    </tr>\n",
       "    <tr>\n",
       "      <th>4</th>\n",
       "      <td>IL-15</td>\n",
       "      <td>2</td>\n",
       "      <td>1.828244</td>\n",
       "      <td>0.000000</td>\n",
       "      <td>Democratic</td>\n",
       "      <td>Solid Republican</td>\n",
       "      <td>5001500US1715</td>\n",
       "    </tr>\n",
       "  </tbody>\n",
       "</table>\n",
       "</div>"
      ],
      "text/plain": [
       "  district_key  counts  democratic  republican      active            rating  \\\n",
       "0        LA-03       4    7.030172    1.900000  Democratic  Solid Republican   \n",
       "1        LA-06       3    8.347670    0.571429  Democratic  Solid Republican   \n",
       "2        LA-01       3   10.019749    2.500000  Democratic  Solid Republican   \n",
       "3        NY-09       2    2.197044   19.278409  Republican  Solid Democratic   \n",
       "4        IL-15       2    1.828244    0.000000  Democratic  Solid Republican   \n",
       "\n",
       "        AFFGEOID  \n",
       "0  5001500US2203  \n",
       "1  5001500US2206  \n",
       "2  5001500US2201  \n",
       "3  5001500US3609  \n",
       "4  5001500US1715  "
      ]
     },
     "execution_count": 55,
     "metadata": {},
     "output_type": "execute_result"
    }
   ],
   "source": [
    "district_df.head()"
   ]
  },
  {
   "cell_type": "code",
   "execution_count": 56,
   "metadata": {},
   "outputs": [],
   "source": [
    "district_df.to_csv('twitter_count_geoid.csv',index=False)"
   ]
  },
  {
   "cell_type": "markdown",
   "metadata": {},
   "source": [
    "## Pennsylvania"
   ]
  },
  {
   "cell_type": "code",
   "execution_count": 57,
   "metadata": {},
   "outputs": [],
   "source": [
    "pennsylvania_df = district_df[district_df.district_key.str.contains('PA')].reset_index(drop=True)"
   ]
  },
  {
   "cell_type": "code",
   "execution_count": 58,
   "metadata": {},
   "outputs": [],
   "source": [
    "pennsylvania_df['district'] = pennsylvania_df.district_key.str.extract('(\\d\\d)').astype(int)"
   ]
  },
  {
   "cell_type": "code",
   "execution_count": 59,
   "metadata": {},
   "outputs": [
    {
     "data": {
      "text/html": [
       "<div>\n",
       "<style scoped>\n",
       "    .dataframe tbody tr th:only-of-type {\n",
       "        vertical-align: middle;\n",
       "    }\n",
       "\n",
       "    .dataframe tbody tr th {\n",
       "        vertical-align: top;\n",
       "    }\n",
       "\n",
       "    .dataframe thead th {\n",
       "        text-align: right;\n",
       "    }\n",
       "</style>\n",
       "<table border=\"1\" class=\"dataframe\">\n",
       "  <thead>\n",
       "    <tr style=\"text-align: right;\">\n",
       "      <th></th>\n",
       "      <th>district_key</th>\n",
       "      <th>counts</th>\n",
       "      <th>democratic</th>\n",
       "      <th>republican</th>\n",
       "      <th>active</th>\n",
       "      <th>rating</th>\n",
       "      <th>AFFGEOID</th>\n",
       "      <th>district</th>\n",
       "    </tr>\n",
       "  </thead>\n",
       "  <tbody>\n",
       "    <tr>\n",
       "      <th>0</th>\n",
       "      <td>PA-03</td>\n",
       "      <td>2</td>\n",
       "      <td>4.298472</td>\n",
       "      <td>0.563073</td>\n",
       "      <td>Democratic</td>\n",
       "      <td>Solid Democratic</td>\n",
       "      <td>5001500US4203</td>\n",
       "      <td>3</td>\n",
       "    </tr>\n",
       "    <tr>\n",
       "      <th>1</th>\n",
       "      <td>PA-16</td>\n",
       "      <td>2</td>\n",
       "      <td>11.379845</td>\n",
       "      <td>1.345679</td>\n",
       "      <td>Democratic</td>\n",
       "      <td>Lean Republican</td>\n",
       "      <td>5001500US4216</td>\n",
       "      <td>16</td>\n",
       "    </tr>\n",
       "    <tr>\n",
       "      <th>2</th>\n",
       "      <td>PA-01</td>\n",
       "      <td>2</td>\n",
       "      <td>20.915452</td>\n",
       "      <td>2.993506</td>\n",
       "      <td>Democratic</td>\n",
       "      <td>Toss-Up Republican</td>\n",
       "      <td>5001500US4201</td>\n",
       "      <td>1</td>\n",
       "    </tr>\n",
       "    <tr>\n",
       "      <th>3</th>\n",
       "      <td>PA-13</td>\n",
       "      <td>2</td>\n",
       "      <td>8.018868</td>\n",
       "      <td>3.804348</td>\n",
       "      <td>Democratic</td>\n",
       "      <td>Solid Republican</td>\n",
       "      <td>5001500US4213</td>\n",
       "      <td>13</td>\n",
       "    </tr>\n",
       "    <tr>\n",
       "      <th>4</th>\n",
       "      <td>PA-05</td>\n",
       "      <td>2</td>\n",
       "      <td>10.086705</td>\n",
       "      <td>2.585526</td>\n",
       "      <td>Democratic</td>\n",
       "      <td>Likely Democratic</td>\n",
       "      <td>5001500US4205</td>\n",
       "      <td>5</td>\n",
       "    </tr>\n",
       "    <tr>\n",
       "      <th>5</th>\n",
       "      <td>PA-09</td>\n",
       "      <td>2</td>\n",
       "      <td>4.694656</td>\n",
       "      <td>1.054662</td>\n",
       "      <td>Democratic</td>\n",
       "      <td>Solid Republican</td>\n",
       "      <td>5001500US4209</td>\n",
       "      <td>9</td>\n",
       "    </tr>\n",
       "    <tr>\n",
       "      <th>6</th>\n",
       "      <td>PA-15</td>\n",
       "      <td>2</td>\n",
       "      <td>6.752941</td>\n",
       "      <td>0.165179</td>\n",
       "      <td>Democratic</td>\n",
       "      <td>Solid Republican</td>\n",
       "      <td>5001500US4215</td>\n",
       "      <td>15</td>\n",
       "    </tr>\n",
       "    <tr>\n",
       "      <th>7</th>\n",
       "      <td>PA-06</td>\n",
       "      <td>2</td>\n",
       "      <td>49.795527</td>\n",
       "      <td>4.481013</td>\n",
       "      <td>Democratic</td>\n",
       "      <td>Likely Democratic</td>\n",
       "      <td>5001500US4206</td>\n",
       "      <td>6</td>\n",
       "    </tr>\n",
       "    <tr>\n",
       "      <th>8</th>\n",
       "      <td>PA-04</td>\n",
       "      <td>2</td>\n",
       "      <td>10.382743</td>\n",
       "      <td>1.353234</td>\n",
       "      <td>Democratic</td>\n",
       "      <td>Solid Democratic</td>\n",
       "      <td>5001500US4204</td>\n",
       "      <td>4</td>\n",
       "    </tr>\n",
       "    <tr>\n",
       "      <th>9</th>\n",
       "      <td>PA-14</td>\n",
       "      <td>2</td>\n",
       "      <td>11.824742</td>\n",
       "      <td>1.300000</td>\n",
       "      <td>Democratic</td>\n",
       "      <td>Likely Republican</td>\n",
       "      <td>5001500US4214</td>\n",
       "      <td>14</td>\n",
       "    </tr>\n",
       "    <tr>\n",
       "      <th>10</th>\n",
       "      <td>PA-08</td>\n",
       "      <td>2</td>\n",
       "      <td>11.390476</td>\n",
       "      <td>2.521964</td>\n",
       "      <td>Democratic</td>\n",
       "      <td>Likely Democratic</td>\n",
       "      <td>5001500US4208</td>\n",
       "      <td>8</td>\n",
       "    </tr>\n",
       "    <tr>\n",
       "      <th>11</th>\n",
       "      <td>PA-07</td>\n",
       "      <td>2</td>\n",
       "      <td>11.185714</td>\n",
       "      <td>1.458333</td>\n",
       "      <td>Democratic</td>\n",
       "      <td>Lean Democratic</td>\n",
       "      <td>5001500US4207</td>\n",
       "      <td>7</td>\n",
       "    </tr>\n",
       "    <tr>\n",
       "      <th>12</th>\n",
       "      <td>PA-12</td>\n",
       "      <td>1</td>\n",
       "      <td>4.466960</td>\n",
       "      <td>0.000000</td>\n",
       "      <td>Democratic</td>\n",
       "      <td>Solid Republican</td>\n",
       "      <td>5001500US4212</td>\n",
       "      <td>12</td>\n",
       "    </tr>\n",
       "    <tr>\n",
       "      <th>13</th>\n",
       "      <td>PA-17</td>\n",
       "      <td>1</td>\n",
       "      <td>1005.731183</td>\n",
       "      <td>0.000000</td>\n",
       "      <td>Democratic</td>\n",
       "      <td>Likely Democratic</td>\n",
       "      <td>5001500US4217</td>\n",
       "      <td>17</td>\n",
       "    </tr>\n",
       "    <tr>\n",
       "      <th>14</th>\n",
       "      <td>PA-11</td>\n",
       "      <td>1</td>\n",
       "      <td>27.568849</td>\n",
       "      <td>0.000000</td>\n",
       "      <td>Democratic</td>\n",
       "      <td>Solid Republican</td>\n",
       "      <td>5001500US4211</td>\n",
       "      <td>11</td>\n",
       "    </tr>\n",
       "    <tr>\n",
       "      <th>15</th>\n",
       "      <td>PA-10</td>\n",
       "      <td>1</td>\n",
       "      <td>6.701711</td>\n",
       "      <td>0.000000</td>\n",
       "      <td>Democratic</td>\n",
       "      <td>Lean Republican</td>\n",
       "      <td>5001500US4210</td>\n",
       "      <td>10</td>\n",
       "    </tr>\n",
       "  </tbody>\n",
       "</table>\n",
       "</div>"
      ],
      "text/plain": [
       "   district_key  counts   democratic  republican      active  \\\n",
       "0         PA-03       2     4.298472    0.563073  Democratic   \n",
       "1         PA-16       2    11.379845    1.345679  Democratic   \n",
       "2         PA-01       2    20.915452    2.993506  Democratic   \n",
       "3         PA-13       2     8.018868    3.804348  Democratic   \n",
       "4         PA-05       2    10.086705    2.585526  Democratic   \n",
       "5         PA-09       2     4.694656    1.054662  Democratic   \n",
       "6         PA-15       2     6.752941    0.165179  Democratic   \n",
       "7         PA-06       2    49.795527    4.481013  Democratic   \n",
       "8         PA-04       2    10.382743    1.353234  Democratic   \n",
       "9         PA-14       2    11.824742    1.300000  Democratic   \n",
       "10        PA-08       2    11.390476    2.521964  Democratic   \n",
       "11        PA-07       2    11.185714    1.458333  Democratic   \n",
       "12        PA-12       1     4.466960    0.000000  Democratic   \n",
       "13        PA-17       1  1005.731183    0.000000  Democratic   \n",
       "14        PA-11       1    27.568849    0.000000  Democratic   \n",
       "15        PA-10       1     6.701711    0.000000  Democratic   \n",
       "\n",
       "                rating       AFFGEOID  district  \n",
       "0     Solid Democratic  5001500US4203         3  \n",
       "1      Lean Republican  5001500US4216        16  \n",
       "2   Toss-Up Republican  5001500US4201         1  \n",
       "3     Solid Republican  5001500US4213        13  \n",
       "4    Likely Democratic  5001500US4205         5  \n",
       "5     Solid Republican  5001500US4209         9  \n",
       "6     Solid Republican  5001500US4215        15  \n",
       "7    Likely Democratic  5001500US4206         6  \n",
       "8     Solid Democratic  5001500US4204         4  \n",
       "9    Likely Republican  5001500US4214        14  \n",
       "10   Likely Democratic  5001500US4208         8  \n",
       "11     Lean Democratic  5001500US4207         7  \n",
       "12    Solid Republican  5001500US4212        12  \n",
       "13   Likely Democratic  5001500US4217        17  \n",
       "14    Solid Republican  5001500US4211        11  \n",
       "15     Lean Republican  5001500US4210        10  "
      ]
     },
     "execution_count": 59,
     "metadata": {},
     "output_type": "execute_result"
    }
   ],
   "source": [
    "pennsylvania_df"
   ]
  },
  {
   "cell_type": "code",
   "execution_count": 60,
   "metadata": {},
   "outputs": [],
   "source": [
    "pennsylvania_df.to_csv('pennsylvania.csv',index=False)"
   ]
  },
  {
   "cell_type": "markdown",
   "metadata": {},
   "source": [
    "## Blank district"
   ]
  },
  {
   "cell_type": "code",
   "execution_count": 61,
   "metadata": {},
   "outputs": [],
   "source": [
    "rating_df[~rating_df.District.isin(district_df.district_key)].to_csv('blank.csv',index=False)"
   ]
  },
  {
   "cell_type": "code",
   "execution_count": null,
   "metadata": {},
   "outputs": [],
   "source": []
  }
 ],
 "metadata": {
  "kernelspec": {
   "display_name": "Python 3",
   "language": "python",
   "name": "python3"
  },
  "language_info": {
   "codemirror_mode": {
    "name": "ipython",
    "version": 3
   },
   "file_extension": ".py",
   "mimetype": "text/x-python",
   "name": "python",
   "nbconvert_exporter": "python",
   "pygments_lexer": "ipython3",
   "version": "3.6.5"
  }
 },
 "nbformat": 4,
 "nbformat_minor": 2
}
