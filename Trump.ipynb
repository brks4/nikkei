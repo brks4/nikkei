{
 "cells": [
  {
   "cell_type": "code",
   "execution_count": 2,
   "metadata": {},
   "outputs": [],
   "source": [
    "import  requests \n",
    "from bs4 import BeautifulSoup"
   ]
  },
  {
   "cell_type": "code",
   "execution_count": 3,
   "metadata": {},
   "outputs": [],
   "source": [
    "raw_html = requests.get('https://twitter.com/realDonaldTrump').content\n",
    "soup_doc = BeautifulSoup(raw_html, \"html.parser\")"
   ]
  },
  {
   "cell_type": "code",
   "execution_count": 4,
   "metadata": {},
   "outputs": [
    {
     "name": "stdout",
     "output_type": "stream",
     "text": [
      "Donald J. Trump (@realDonaldTrump) | Twitter\n"
     ]
    }
   ],
   "source": [
    "print(soup_doc.title.string)"
   ]
  },
  {
   "cell_type": "code",
   "execution_count": 14,
   "metadata": {},
   "outputs": [],
   "source": [
    "sources = soup_doc.find_all('li')"
   ]
  },
  {
   "cell_type": "code",
   "execution_count": 15,
   "metadata": {},
   "outputs": [
    {
     "name": "stdout",
     "output_type": "stream",
     "text": [
      "['pic.twitter.com/tJG3KIn2q0', 'A year ago the pundits & talking heads, people that couldn’t do the job before, were begging for conciliation and peace - “please meet, don’t go to war.” Now that we meet and have a great relationship with Kim Jong Un, the same haters shout out, “you shouldn’t meet, do not meet!”', 'The World has taken a big step back from potential Nuclear catastrophe! No more rocket launches, nuclear testing or research! The hostages are back home with their families. Thank you to Chairman Kim, our day together was historic!', 'I want to thank Chairman Kim for taking the first bold step toward a bright new future for his people. Our unprecedented meeting – the first between an American President and a leader of North Korea – proves that real change is possible!pic.twitter.com/yF3iwD23YQ', 'There is no limit to what NoKo can achieve when it gives up its nuclear weapons and embraces commerce & engagement w/ the world. Chairman Kim has before him the opportunity to be remembered as the leader who ushered in a glorious new era of security & prosperity for his citizens!pic.twitter.com/Xbup4Zyz33', \"It's time for another #MAGA rally. Join me in Duluth, Minnesota on Wednesday, June 20th at 6:30pm!\\nTickets➜http://donaldjtrump.com/rallies/duluth-mn-june-2018\\xa0…pic.twitter.com/T6eXenoSxT\", 'Here is the video, “A Story of Opportunity” that I shared with Kim Jong-un at the #SingaporeSummit\\nhttps://www.facebook.com/WhiteHouse/videos/1710505219037204/\\xa0…pic.twitter.com/xBKFkDLtj7', '...realize the economy is the best it’s ever been with employment being at an all time high, and many companies pouring back into our country. Wake up Punchy!', 'Robert De Niro, a very Low IQ individual, has received to many shots to the head by real boxers in movies. I watched him last night and truly believe he may be “punch-drunk.” I guess he doesn’t...', '...Got along great with Kim Jong-un who wants to see wonderful things for his country. As I said earlier today: Anyone can make war, but only the most courageous can make peace! #SingaporeSummit', 'Heading back home from Singapore after a truly amazing visit. Great progress was made on the denuclearization of North Korea. Hostages are back home, will be getting the remains of our great heroes back to their families, no missiles shot, no research happening, sites closing...', 'Mark Sanford has been very unhelpful to me in my campaign to MAGA. He is MIA and nothing but trouble. He is better off in Argentina. I fully endorse Katie Arrington for Congress in SC, a state I love. She is tough on crime and will continue our fight to lower taxes. VOTE Katie!', 'I strongly endorse Adam Laxalt for Governor of Nevada. Adam is smart, works hard, and knows how to win. He will be a great Governor. Also, will fight hard to lower your taxes and is tough on crime!', 'Henry McMaster loves the people of South Carolina and was with me from the beginning. He is strong on Crime and Borders, great for our Military and our Vets. He is doing a fantastic job as your Governor, and has my full endorsement, a special guy. Vote on Tuesday!', 'Our Great Larry Kudlow, who has been working so hard on trade and the economy, has just suffered a heart attack. He is now in Walter Reed Medical Center.', 'Just won big Supreme Court decision on Voting! Great News!', 'The fact that I am having a meeting is a major loss for the U.S., say the haters & losers. We have our hostages, testing, research and all missle launches have stoped, and these pundits, who have called me wrong from the beginning, have nothing else they can say! We will be fine!', 'Stock Market up almost 40% since the Election, with 7 Trillion Dollars of U.S. value built throughout the economy. Lowest unemployment rate in many decades, with Black & Hispanic unemployment lowest in History, and Female unemployment lowest in 21 years. Highest confidence ever!', 'Meetings between staffs and representatives are going well and quickly....but in the end, that doesn’t matter. We will all know soon whether or not a real deal, unlike those of the past, can happen!', 'Thank you Prime Minister Lee Hsien Loong!pic.twitter.com/8MMYGuOj8Q', '\\n        You can add location information to your Tweets, such as your city or precise location, from the web and via third-party applications. You always have the option to delete your Tweet location history.\\n        Learn more\\n']\n"
     ]
    }
   ],
   "source": [
    "Trump = []\n",
    "for source in sources:\n",
    "    tweets = source.find_all('p')\n",
    "    for tweet in tweets:\n",
    "        Trump.append(tweet.text)\n",
    "print(Trump)"
   ]
  },
  {
   "cell_type": "code",
   "execution_count": 16,
   "metadata": {},
   "outputs": [],
   "source": [
    "import pandas as pd\n",
    "df = pd.DataFrame(Trump)\n",
    "df.to_csv('trump.csv', index=False)"
   ]
  },
  {
   "cell_type": "code",
   "execution_count": 17,
   "metadata": {},
   "outputs": [
    {
     "data": {
      "text/html": [
       "<div>\n",
       "<style scoped>\n",
       "    .dataframe tbody tr th:only-of-type {\n",
       "        vertical-align: middle;\n",
       "    }\n",
       "\n",
       "    .dataframe tbody tr th {\n",
       "        vertical-align: top;\n",
       "    }\n",
       "\n",
       "    .dataframe thead th {\n",
       "        text-align: right;\n",
       "    }\n",
       "</style>\n",
       "<table border=\"1\" class=\"dataframe\">\n",
       "  <thead>\n",
       "    <tr style=\"text-align: right;\">\n",
       "      <th></th>\n",
       "      <th>0</th>\n",
       "    </tr>\n",
       "  </thead>\n",
       "  <tbody>\n",
       "    <tr>\n",
       "      <th>0</th>\n",
       "      <td>pic.twitter.com/tJG3KIn2q0</td>\n",
       "    </tr>\n",
       "    <tr>\n",
       "      <th>1</th>\n",
       "      <td>A year ago the pundits &amp; talking heads, people...</td>\n",
       "    </tr>\n",
       "    <tr>\n",
       "      <th>2</th>\n",
       "      <td>The World has taken a big step back from poten...</td>\n",
       "    </tr>\n",
       "    <tr>\n",
       "      <th>3</th>\n",
       "      <td>I want to thank Chairman Kim for taking the fi...</td>\n",
       "    </tr>\n",
       "    <tr>\n",
       "      <th>4</th>\n",
       "      <td>There is no limit to what NoKo can achieve whe...</td>\n",
       "    </tr>\n",
       "    <tr>\n",
       "      <th>5</th>\n",
       "      <td>It's time for another #MAGA rally. Join me in ...</td>\n",
       "    </tr>\n",
       "    <tr>\n",
       "      <th>6</th>\n",
       "      <td>Here is the video, “A Story of Opportunity” th...</td>\n",
       "    </tr>\n",
       "    <tr>\n",
       "      <th>7</th>\n",
       "      <td>...realize the economy is the best it’s ever b...</td>\n",
       "    </tr>\n",
       "    <tr>\n",
       "      <th>8</th>\n",
       "      <td>Robert De Niro, a very Low IQ individual, has ...</td>\n",
       "    </tr>\n",
       "    <tr>\n",
       "      <th>9</th>\n",
       "      <td>...Got along great with Kim Jong-un who wants ...</td>\n",
       "    </tr>\n",
       "    <tr>\n",
       "      <th>10</th>\n",
       "      <td>Heading back home from Singapore after a truly...</td>\n",
       "    </tr>\n",
       "    <tr>\n",
       "      <th>11</th>\n",
       "      <td>Mark Sanford has been very unhelpful to me in ...</td>\n",
       "    </tr>\n",
       "    <tr>\n",
       "      <th>12</th>\n",
       "      <td>I strongly endorse Adam Laxalt for Governor of...</td>\n",
       "    </tr>\n",
       "    <tr>\n",
       "      <th>13</th>\n",
       "      <td>Henry McMaster loves the people of South Carol...</td>\n",
       "    </tr>\n",
       "    <tr>\n",
       "      <th>14</th>\n",
       "      <td>Our Great Larry Kudlow, who has been working s...</td>\n",
       "    </tr>\n",
       "    <tr>\n",
       "      <th>15</th>\n",
       "      <td>Just won big Supreme Court decision on Voting!...</td>\n",
       "    </tr>\n",
       "    <tr>\n",
       "      <th>16</th>\n",
       "      <td>The fact that I am having a meeting is a major...</td>\n",
       "    </tr>\n",
       "    <tr>\n",
       "      <th>17</th>\n",
       "      <td>Stock Market up almost 40% since the Election,...</td>\n",
       "    </tr>\n",
       "    <tr>\n",
       "      <th>18</th>\n",
       "      <td>Meetings between staffs and representatives ar...</td>\n",
       "    </tr>\n",
       "    <tr>\n",
       "      <th>19</th>\n",
       "      <td>Thank you Prime Minister Lee Hsien Loong!pic.t...</td>\n",
       "    </tr>\n",
       "    <tr>\n",
       "      <th>20</th>\n",
       "      <td>\\n        You can add location information to ...</td>\n",
       "    </tr>\n",
       "  </tbody>\n",
       "</table>\n",
       "</div>"
      ],
      "text/plain": [
       "                                                    0\n",
       "0                          pic.twitter.com/tJG3KIn2q0\n",
       "1   A year ago the pundits & talking heads, people...\n",
       "2   The World has taken a big step back from poten...\n",
       "3   I want to thank Chairman Kim for taking the fi...\n",
       "4   There is no limit to what NoKo can achieve whe...\n",
       "5   It's time for another #MAGA rally. Join me in ...\n",
       "6   Here is the video, “A Story of Opportunity” th...\n",
       "7   ...realize the economy is the best it’s ever b...\n",
       "8   Robert De Niro, a very Low IQ individual, has ...\n",
       "9   ...Got along great with Kim Jong-un who wants ...\n",
       "10  Heading back home from Singapore after a truly...\n",
       "11  Mark Sanford has been very unhelpful to me in ...\n",
       "12  I strongly endorse Adam Laxalt for Governor of...\n",
       "13  Henry McMaster loves the people of South Carol...\n",
       "14  Our Great Larry Kudlow, who has been working s...\n",
       "15  Just won big Supreme Court decision on Voting!...\n",
       "16  The fact that I am having a meeting is a major...\n",
       "17  Stock Market up almost 40% since the Election,...\n",
       "18  Meetings between staffs and representatives ar...\n",
       "19  Thank you Prime Minister Lee Hsien Loong!pic.t...\n",
       "20  \\n        You can add location information to ..."
      ]
     },
     "execution_count": 17,
     "metadata": {},
     "output_type": "execute_result"
    }
   ],
   "source": [
    "df = pd.read_csv('trump.csv')\n",
    "df"
   ]
  },
  {
   "cell_type": "code",
   "execution_count": null,
   "metadata": {},
   "outputs": [],
   "source": []
  }
 ],
 "metadata": {
  "kernelspec": {
   "display_name": "Python 3",
   "language": "python",
   "name": "python3"
  },
  "language_info": {
   "codemirror_mode": {
    "name": "ipython",
    "version": 3
   },
   "file_extension": ".py",
   "mimetype": "text/x-python",
   "name": "python",
   "nbconvert_exporter": "python",
   "pygments_lexer": "ipython3",
   "version": "3.6.5"
  }
 },
 "nbformat": 4,
 "nbformat_minor": 2
}
