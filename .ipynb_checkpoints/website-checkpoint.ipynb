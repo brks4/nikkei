{
 "cells": [
  {
   "cell_type": "code",
   "execution_count": 2,
   "metadata": {},
   "outputs": [],
   "source": [
    "import requests\n",
    "from bs4 import BeautifulSoup"
   ]
  },
  {
   "cell_type": "code",
   "execution_count": 3,
   "metadata": {},
   "outputs": [],
   "source": [
    "raw_html = requests.get('https://www.nikkei.com/').content\n",
    "soup_doc = BeautifulSoup(raw_html, \"html.parser\")"
   ]
  },
  {
   "cell_type": "markdown",
   "metadata": {},
   "source": [
    "## タイトル"
   ]
  },
  {
   "cell_type": "code",
   "execution_count": 4,
   "metadata": {},
   "outputs": [
    {
     "name": "stdout",
     "output_type": "stream",
     "text": [
      "経済、株価、ビジネス、政治のニュース:日経電子版\n"
     ]
    }
   ],
   "source": [
    "print(soup_doc.title.string)"
   ]
  },
  {
   "cell_type": "markdown",
   "metadata": {},
   "source": [
    "## 新着記事"
   ]
  },
  {
   "cell_type": "code",
   "execution_count": 5,
   "metadata": {},
   "outputs": [
    {
     "name": "stdout",
     "output_type": "stream",
     "text": [
      "\n",
      "ＦＲＢ副議長を承認　米上院銀行委\n",
      "https://www.nikkei.com/article/DGXMZO31695490T10C18A6000000/?n_cid=TPRN0003\n",
      "\n",
      "米朝首脳会談　識者に聞く［有料会員限定］\n",
      "https://www.nikkei.com/article/DGXMZO31695470T10C18A6000000/?n_cid=TPRN0003\n",
      "\n",
      "米中小企業景況感　５月は3.0ポイント上昇　過去２番目の高水準\n",
      "https://www.nikkei.com/article/DGXMZO31695380T10C18A6000000/?n_cid=TPRN0003\n",
      "\n",
      "「後半に推進力」西野Ｊ４得点、やっと光明\n",
      "https://www.nikkei.com/article/DGXMZO31694710T10C18A6UU1000/?n_cid=TPRN0003\n",
      "\n",
      "任天堂、「スイッチ」向けに人気スマホゲーム\n",
      "https://www.nikkei.com/article/DGXMZO31695120T10C18A6000000/?n_cid=TPRN0003\n",
      "\n",
      "巨艦日立、ようやく世界戦　変革第３ステージへ［有料会員限定］\n",
      "https://www.nikkei.com/article/DGXMZO31668190S8A610C1TJ1000/?n_cid=TPRN0003\n",
      "\n",
      "日朝会談・拉致解決へ高まる期待　政治決断は難しく［有料会員限定］\n",
      "https://www.nikkei.com/article/DGXMZO31660610S8A610C1PP8000/?n_cid=TPRN0003\n",
      "\n",
      "生煮えでも残した次世代の声［有料会員限定］\n",
      "https://www.nikkei.com/article/DGXMZO31658100S8A610C1SHA000/?n_cid=TPRN0003\n",
      "\n",
      "会計士協会、20年に会費値上げ　40年ぶり　東芝問題などで費用増［有料会員限定］\n",
      "https://www.nikkei.com/article/DGXMZO31648290S8A610C1DTA000/?n_cid=TPRN0003\n",
      "\n",
      "ファストリ、需要予測にＡＩ　「エアリズム」など年内に［有料会員限定］\n",
      "https://www.nikkei.com/article/DGXMZO31669130S8A610C1916M00/?n_cid=TPRN0003\n"
     ]
    }
   ],
   "source": [
    "headlines = soup_doc.find_all('h3')\n",
    "for headline in headlines[:10]:\n",
    "    print(headline.text)\n",
    "    print('https://www.nikkei.com'+headline.find('a')['href'])"
   ]
  }
 ],
 "metadata": {
  "kernelspec": {
   "display_name": "Python 3",
   "language": "python",
   "name": "python3"
  },
  "language_info": {
   "codemirror_mode": {
    "name": "ipython",
    "version": 3
   },
   "file_extension": ".py",
   "mimetype": "text/x-python",
   "name": "python",
   "nbconvert_exporter": "python",
   "pygments_lexer": "ipython3",
   "version": "3.6.5"
  }
 },
 "nbformat": 4,
 "nbformat_minor": 2
}
